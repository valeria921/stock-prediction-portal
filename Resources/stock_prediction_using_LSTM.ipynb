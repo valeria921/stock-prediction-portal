{
 "cells": [
  {
   "cell_type": "code",
   "execution_count": 2,
   "id": "33e376b5-5b74-4421-857a-f36cd9cf18b2",
   "metadata": {},
   "outputs": [],
   "source": [
    "import numpy as np\n",
    "import pandas as pd\n",
    "import matplotlib.pyplot as plt\n",
    "import yfinance as yf\n",
    "from datetime import datetime"
   ]
  },
  {
   "cell_type": "markdown",
   "id": "6af679a4-9177-4069-bda4-907edc191f55",
   "metadata": {},
   "source": [
    "# 1. Data collection"
   ]
  },
  {
   "cell_type": "code",
   "execution_count": 3,
   "id": "8f057191-e5f3-4997-977a-a5d7ad370a65",
   "metadata": {},
   "outputs": [
    {
     "name": "stderr",
     "output_type": "stream",
     "text": [
      "[*********************100%***********************]  1 of 1 completed\n"
     ]
    },
    {
     "data": {
      "text/html": [
       "<div>\n",
       "<style scoped>\n",
       "    .dataframe tbody tr th:only-of-type {\n",
       "        vertical-align: middle;\n",
       "    }\n",
       "\n",
       "    .dataframe tbody tr th {\n",
       "        vertical-align: top;\n",
       "    }\n",
       "\n",
       "    .dataframe thead tr th {\n",
       "        text-align: left;\n",
       "    }\n",
       "\n",
       "    .dataframe thead tr:last-of-type th {\n",
       "        text-align: right;\n",
       "    }\n",
       "</style>\n",
       "<table border=\"1\" class=\"dataframe\">\n",
       "  <thead>\n",
       "    <tr>\n",
       "      <th>Price</th>\n",
       "      <th>Adj Close</th>\n",
       "      <th>Close</th>\n",
       "      <th>High</th>\n",
       "      <th>Low</th>\n",
       "      <th>Open</th>\n",
       "      <th>Volume</th>\n",
       "    </tr>\n",
       "    <tr>\n",
       "      <th>Ticker</th>\n",
       "      <th>AAPL</th>\n",
       "      <th>AAPL</th>\n",
       "      <th>AAPL</th>\n",
       "      <th>AAPL</th>\n",
       "      <th>AAPL</th>\n",
       "      <th>AAPL</th>\n",
       "    </tr>\n",
       "    <tr>\n",
       "      <th>Date</th>\n",
       "      <th></th>\n",
       "      <th></th>\n",
       "      <th></th>\n",
       "      <th></th>\n",
       "      <th></th>\n",
       "      <th></th>\n",
       "    </tr>\n",
       "  </thead>\n",
       "  <tbody>\n",
       "    <tr>\n",
       "      <th>2015-07-01</th>\n",
       "      <td>28.354195</td>\n",
       "      <td>31.650000</td>\n",
       "      <td>31.735001</td>\n",
       "      <td>31.497499</td>\n",
       "      <td>31.725000</td>\n",
       "      <td>120955200</td>\n",
       "    </tr>\n",
       "    <tr>\n",
       "      <th>2015-07-02</th>\n",
       "      <td>28.318365</td>\n",
       "      <td>31.610001</td>\n",
       "      <td>31.672501</td>\n",
       "      <td>31.442499</td>\n",
       "      <td>31.607500</td>\n",
       "      <td>108844000</td>\n",
       "    </tr>\n",
       "    <tr>\n",
       "      <th>2015-07-06</th>\n",
       "      <td>28.219822</td>\n",
       "      <td>31.500000</td>\n",
       "      <td>31.557501</td>\n",
       "      <td>31.212500</td>\n",
       "      <td>31.235001</td>\n",
       "      <td>112241600</td>\n",
       "    </tr>\n",
       "    <tr>\n",
       "      <th>2015-07-07</th>\n",
       "      <td>28.150396</td>\n",
       "      <td>31.422501</td>\n",
       "      <td>31.537500</td>\n",
       "      <td>30.942499</td>\n",
       "      <td>31.472500</td>\n",
       "      <td>187787200</td>\n",
       "    </tr>\n",
       "    <tr>\n",
       "      <th>2015-07-08</th>\n",
       "      <td>27.451622</td>\n",
       "      <td>30.642500</td>\n",
       "      <td>31.160000</td>\n",
       "      <td>30.635000</td>\n",
       "      <td>31.120001</td>\n",
       "      <td>243046400</td>\n",
       "    </tr>\n",
       "    <tr>\n",
       "      <th>...</th>\n",
       "      <td>...</td>\n",
       "      <td>...</td>\n",
       "      <td>...</td>\n",
       "      <td>...</td>\n",
       "      <td>...</td>\n",
       "      <td>...</td>\n",
       "    </tr>\n",
       "    <tr>\n",
       "      <th>2025-06-25</th>\n",
       "      <td>201.559998</td>\n",
       "      <td>201.559998</td>\n",
       "      <td>203.669998</td>\n",
       "      <td>200.619995</td>\n",
       "      <td>201.449997</td>\n",
       "      <td>39525700</td>\n",
       "    </tr>\n",
       "    <tr>\n",
       "      <th>2025-06-26</th>\n",
       "      <td>201.000000</td>\n",
       "      <td>201.000000</td>\n",
       "      <td>202.639999</td>\n",
       "      <td>199.460007</td>\n",
       "      <td>201.429993</td>\n",
       "      <td>50799100</td>\n",
       "    </tr>\n",
       "    <tr>\n",
       "      <th>2025-06-27</th>\n",
       "      <td>201.080002</td>\n",
       "      <td>201.080002</td>\n",
       "      <td>203.220001</td>\n",
       "      <td>200.000000</td>\n",
       "      <td>201.889999</td>\n",
       "      <td>73188600</td>\n",
       "    </tr>\n",
       "    <tr>\n",
       "      <th>2025-06-30</th>\n",
       "      <td>205.169998</td>\n",
       "      <td>205.169998</td>\n",
       "      <td>207.389999</td>\n",
       "      <td>199.259995</td>\n",
       "      <td>202.009995</td>\n",
       "      <td>91912800</td>\n",
       "    </tr>\n",
       "    <tr>\n",
       "      <th>2025-07-01</th>\n",
       "      <td>207.820007</td>\n",
       "      <td>207.820007</td>\n",
       "      <td>210.186493</td>\n",
       "      <td>206.140106</td>\n",
       "      <td>206.664993</td>\n",
       "      <td>77921627</td>\n",
       "    </tr>\n",
       "  </tbody>\n",
       "</table>\n",
       "<p>2515 rows × 6 columns</p>\n",
       "</div>"
      ],
      "text/plain": [
       "Price        Adj Close       Close        High         Low        Open  \\\n",
       "Ticker            AAPL        AAPL        AAPL        AAPL        AAPL   \n",
       "Date                                                                     \n",
       "2015-07-01   28.354195   31.650000   31.735001   31.497499   31.725000   \n",
       "2015-07-02   28.318365   31.610001   31.672501   31.442499   31.607500   \n",
       "2015-07-06   28.219822   31.500000   31.557501   31.212500   31.235001   \n",
       "2015-07-07   28.150396   31.422501   31.537500   30.942499   31.472500   \n",
       "2015-07-08   27.451622   30.642500   31.160000   30.635000   31.120001   \n",
       "...                ...         ...         ...         ...         ...   \n",
       "2025-06-25  201.559998  201.559998  203.669998  200.619995  201.449997   \n",
       "2025-06-26  201.000000  201.000000  202.639999  199.460007  201.429993   \n",
       "2025-06-27  201.080002  201.080002  203.220001  200.000000  201.889999   \n",
       "2025-06-30  205.169998  205.169998  207.389999  199.259995  202.009995   \n",
       "2025-07-01  207.820007  207.820007  210.186493  206.140106  206.664993   \n",
       "\n",
       "Price          Volume  \n",
       "Ticker           AAPL  \n",
       "Date                   \n",
       "2015-07-01  120955200  \n",
       "2015-07-02  108844000  \n",
       "2015-07-06  112241600  \n",
       "2015-07-07  187787200  \n",
       "2015-07-08  243046400  \n",
       "...               ...  \n",
       "2025-06-25   39525700  \n",
       "2025-06-26   50799100  \n",
       "2025-06-27   73188600  \n",
       "2025-06-30   91912800  \n",
       "2025-07-01   77921627  \n",
       "\n",
       "[2515 rows x 6 columns]"
      ]
     },
     "execution_count": 3,
     "metadata": {},
     "output_type": "execute_result"
    }
   ],
   "source": [
    "now = datetime.now()\n",
    "\n",
    "ticker = 'AAPL'\n",
    "start= datetime(now.year-10, now.month, now.day)\n",
    "end = now\n",
    "df = yf.download(ticker, start, end, auto_adjust=False)\n",
    "df"
   ]
  },
  {
   "cell_type": "code",
   "execution_count": 4,
   "id": "94a05faf-079d-43c3-85ab-924bb0731e5e",
   "metadata": {},
   "outputs": [
    {
     "data": {
      "text/html": [
       "<div>\n",
       "<style scoped>\n",
       "    .dataframe tbody tr th:only-of-type {\n",
       "        vertical-align: middle;\n",
       "    }\n",
       "\n",
       "    .dataframe tbody tr th {\n",
       "        vertical-align: top;\n",
       "    }\n",
       "\n",
       "    .dataframe thead tr th {\n",
       "        text-align: left;\n",
       "    }\n",
       "\n",
       "    .dataframe thead tr:last-of-type th {\n",
       "        text-align: right;\n",
       "    }\n",
       "</style>\n",
       "<table border=\"1\" class=\"dataframe\">\n",
       "  <thead>\n",
       "    <tr>\n",
       "      <th>Price</th>\n",
       "      <th>Adj Close</th>\n",
       "      <th>Close</th>\n",
       "      <th>High</th>\n",
       "      <th>Low</th>\n",
       "      <th>Open</th>\n",
       "      <th>Volume</th>\n",
       "    </tr>\n",
       "    <tr>\n",
       "      <th>Ticker</th>\n",
       "      <th>AAPL</th>\n",
       "      <th>AAPL</th>\n",
       "      <th>AAPL</th>\n",
       "      <th>AAPL</th>\n",
       "      <th>AAPL</th>\n",
       "      <th>AAPL</th>\n",
       "    </tr>\n",
       "    <tr>\n",
       "      <th>Date</th>\n",
       "      <th></th>\n",
       "      <th></th>\n",
       "      <th></th>\n",
       "      <th></th>\n",
       "      <th></th>\n",
       "      <th></th>\n",
       "    </tr>\n",
       "  </thead>\n",
       "  <tbody>\n",
       "    <tr>\n",
       "      <th>2015-07-01</th>\n",
       "      <td>28.354195</td>\n",
       "      <td>31.650000</td>\n",
       "      <td>31.735001</td>\n",
       "      <td>31.497499</td>\n",
       "      <td>31.725000</td>\n",
       "      <td>120955200</td>\n",
       "    </tr>\n",
       "    <tr>\n",
       "      <th>2015-07-02</th>\n",
       "      <td>28.318365</td>\n",
       "      <td>31.610001</td>\n",
       "      <td>31.672501</td>\n",
       "      <td>31.442499</td>\n",
       "      <td>31.607500</td>\n",
       "      <td>108844000</td>\n",
       "    </tr>\n",
       "    <tr>\n",
       "      <th>2015-07-06</th>\n",
       "      <td>28.219822</td>\n",
       "      <td>31.500000</td>\n",
       "      <td>31.557501</td>\n",
       "      <td>31.212500</td>\n",
       "      <td>31.235001</td>\n",
       "      <td>112241600</td>\n",
       "    </tr>\n",
       "    <tr>\n",
       "      <th>2015-07-07</th>\n",
       "      <td>28.150396</td>\n",
       "      <td>31.422501</td>\n",
       "      <td>31.537500</td>\n",
       "      <td>30.942499</td>\n",
       "      <td>31.472500</td>\n",
       "      <td>187787200</td>\n",
       "    </tr>\n",
       "    <tr>\n",
       "      <th>2015-07-08</th>\n",
       "      <td>27.451622</td>\n",
       "      <td>30.642500</td>\n",
       "      <td>31.160000</td>\n",
       "      <td>30.635000</td>\n",
       "      <td>31.120001</td>\n",
       "      <td>243046400</td>\n",
       "    </tr>\n",
       "  </tbody>\n",
       "</table>\n",
       "</div>"
      ],
      "text/plain": [
       "Price       Adj Close      Close       High        Low       Open     Volume\n",
       "Ticker           AAPL       AAPL       AAPL       AAPL       AAPL       AAPL\n",
       "Date                                                                        \n",
       "2015-07-01  28.354195  31.650000  31.735001  31.497499  31.725000  120955200\n",
       "2015-07-02  28.318365  31.610001  31.672501  31.442499  31.607500  108844000\n",
       "2015-07-06  28.219822  31.500000  31.557501  31.212500  31.235001  112241600\n",
       "2015-07-07  28.150396  31.422501  31.537500  30.942499  31.472500  187787200\n",
       "2015-07-08  27.451622  30.642500  31.160000  30.635000  31.120001  243046400"
      ]
     },
     "execution_count": 4,
     "metadata": {},
     "output_type": "execute_result"
    }
   ],
   "source": [
    "df.head()"
   ]
  },
  {
   "cell_type": "code",
   "execution_count": 5,
   "id": "81aa149a-d537-48d1-a5c1-5f580cc05340",
   "metadata": {},
   "outputs": [
    {
     "data": {
      "text/html": [
       "<div>\n",
       "<style scoped>\n",
       "    .dataframe tbody tr th:only-of-type {\n",
       "        vertical-align: middle;\n",
       "    }\n",
       "\n",
       "    .dataframe tbody tr th {\n",
       "        vertical-align: top;\n",
       "    }\n",
       "\n",
       "    .dataframe thead tr th {\n",
       "        text-align: left;\n",
       "    }\n",
       "\n",
       "    .dataframe thead tr:last-of-type th {\n",
       "        text-align: right;\n",
       "    }\n",
       "</style>\n",
       "<table border=\"1\" class=\"dataframe\">\n",
       "  <thead>\n",
       "    <tr>\n",
       "      <th>Price</th>\n",
       "      <th>Adj Close</th>\n",
       "      <th>Close</th>\n",
       "      <th>High</th>\n",
       "      <th>Low</th>\n",
       "      <th>Open</th>\n",
       "      <th>Volume</th>\n",
       "    </tr>\n",
       "    <tr>\n",
       "      <th>Ticker</th>\n",
       "      <th>AAPL</th>\n",
       "      <th>AAPL</th>\n",
       "      <th>AAPL</th>\n",
       "      <th>AAPL</th>\n",
       "      <th>AAPL</th>\n",
       "      <th>AAPL</th>\n",
       "    </tr>\n",
       "    <tr>\n",
       "      <th>Date</th>\n",
       "      <th></th>\n",
       "      <th></th>\n",
       "      <th></th>\n",
       "      <th></th>\n",
       "      <th></th>\n",
       "      <th></th>\n",
       "    </tr>\n",
       "  </thead>\n",
       "  <tbody>\n",
       "    <tr>\n",
       "      <th>2025-06-25</th>\n",
       "      <td>201.559998</td>\n",
       "      <td>201.559998</td>\n",
       "      <td>203.669998</td>\n",
       "      <td>200.619995</td>\n",
       "      <td>201.449997</td>\n",
       "      <td>39525700</td>\n",
       "    </tr>\n",
       "    <tr>\n",
       "      <th>2025-06-26</th>\n",
       "      <td>201.000000</td>\n",
       "      <td>201.000000</td>\n",
       "      <td>202.639999</td>\n",
       "      <td>199.460007</td>\n",
       "      <td>201.429993</td>\n",
       "      <td>50799100</td>\n",
       "    </tr>\n",
       "    <tr>\n",
       "      <th>2025-06-27</th>\n",
       "      <td>201.080002</td>\n",
       "      <td>201.080002</td>\n",
       "      <td>203.220001</td>\n",
       "      <td>200.000000</td>\n",
       "      <td>201.889999</td>\n",
       "      <td>73188600</td>\n",
       "    </tr>\n",
       "    <tr>\n",
       "      <th>2025-06-30</th>\n",
       "      <td>205.169998</td>\n",
       "      <td>205.169998</td>\n",
       "      <td>207.389999</td>\n",
       "      <td>199.259995</td>\n",
       "      <td>202.009995</td>\n",
       "      <td>91912800</td>\n",
       "    </tr>\n",
       "    <tr>\n",
       "      <th>2025-07-01</th>\n",
       "      <td>207.820007</td>\n",
       "      <td>207.820007</td>\n",
       "      <td>210.186493</td>\n",
       "      <td>206.140106</td>\n",
       "      <td>206.664993</td>\n",
       "      <td>77921627</td>\n",
       "    </tr>\n",
       "  </tbody>\n",
       "</table>\n",
       "</div>"
      ],
      "text/plain": [
       "Price        Adj Close       Close        High         Low        Open  \\\n",
       "Ticker            AAPL        AAPL        AAPL        AAPL        AAPL   \n",
       "Date                                                                     \n",
       "2025-06-25  201.559998  201.559998  203.669998  200.619995  201.449997   \n",
       "2025-06-26  201.000000  201.000000  202.639999  199.460007  201.429993   \n",
       "2025-06-27  201.080002  201.080002  203.220001  200.000000  201.889999   \n",
       "2025-06-30  205.169998  205.169998  207.389999  199.259995  202.009995   \n",
       "2025-07-01  207.820007  207.820007  210.186493  206.140106  206.664993   \n",
       "\n",
       "Price         Volume  \n",
       "Ticker          AAPL  \n",
       "Date                  \n",
       "2025-06-25  39525700  \n",
       "2025-06-26  50799100  \n",
       "2025-06-27  73188600  \n",
       "2025-06-30  91912800  \n",
       "2025-07-01  77921627  "
      ]
     },
     "execution_count": 5,
     "metadata": {},
     "output_type": "execute_result"
    }
   ],
   "source": [
    "df.tail()"
   ]
  },
  {
   "cell_type": "markdown",
   "id": "97a0ead8-e4a4-4a84-bc0f-9b0b84bc2933",
   "metadata": {},
   "source": [
    "# 2. Data exploration"
   ]
  },
  {
   "cell_type": "code",
   "execution_count": 6,
   "id": "799658f1-4dc1-4379-91a9-94b792d7b3f3",
   "metadata": {},
   "outputs": [
    {
     "data": {
      "text/plain": [
       "pandas.core.frame.DataFrame"
      ]
     },
     "execution_count": 6,
     "metadata": {},
     "output_type": "execute_result"
    }
   ],
   "source": [
    "type(df)"
   ]
  },
  {
   "cell_type": "code",
   "execution_count": 7,
   "id": "5abd2f88-d9a5-4c1d-95a8-54c062a32904",
   "metadata": {},
   "outputs": [
    {
     "data": {
      "text/plain": [
       "(2515, 6)"
      ]
     },
     "execution_count": 7,
     "metadata": {},
     "output_type": "execute_result"
    }
   ],
   "source": [
    "df.shape"
   ]
  },
  {
   "cell_type": "code",
   "execution_count": 8,
   "id": "3222789c-33a9-49f7-815c-6f9ae46f35ca",
   "metadata": {},
   "outputs": [
    {
     "data": {
      "text/plain": [
       "Price      Ticker\n",
       "Adj Close  AAPL      0\n",
       "Close      AAPL      0\n",
       "High       AAPL      0\n",
       "Low        AAPL      0\n",
       "Open       AAPL      0\n",
       "Volume     AAPL      0\n",
       "dtype: int64"
      ]
     },
     "execution_count": 8,
     "metadata": {},
     "output_type": "execute_result"
    }
   ],
   "source": [
    "df.isna().sum()"
   ]
  },
  {
   "cell_type": "code",
   "execution_count": 9,
   "id": "5fa5eba3-9033-4b3d-9f05-d15c75e68e85",
   "metadata": {},
   "outputs": [
    {
     "data": {
      "text/html": [
       "<div>\n",
       "<style scoped>\n",
       "    .dataframe tbody tr th:only-of-type {\n",
       "        vertical-align: middle;\n",
       "    }\n",
       "\n",
       "    .dataframe tbody tr th {\n",
       "        vertical-align: top;\n",
       "    }\n",
       "\n",
       "    .dataframe thead tr th {\n",
       "        text-align: left;\n",
       "    }\n",
       "</style>\n",
       "<table border=\"1\" class=\"dataframe\">\n",
       "  <thead>\n",
       "    <tr>\n",
       "      <th>Price</th>\n",
       "      <th>Adj Close</th>\n",
       "      <th>Close</th>\n",
       "      <th>High</th>\n",
       "      <th>Low</th>\n",
       "      <th>Open</th>\n",
       "      <th>Volume</th>\n",
       "    </tr>\n",
       "    <tr>\n",
       "      <th>Ticker</th>\n",
       "      <th>AAPL</th>\n",
       "      <th>AAPL</th>\n",
       "      <th>AAPL</th>\n",
       "      <th>AAPL</th>\n",
       "      <th>AAPL</th>\n",
       "      <th>AAPL</th>\n",
       "    </tr>\n",
       "  </thead>\n",
       "  <tbody>\n",
       "    <tr>\n",
       "      <th>count</th>\n",
       "      <td>2515.000000</td>\n",
       "      <td>2515.000000</td>\n",
       "      <td>2515.000000</td>\n",
       "      <td>2515.000000</td>\n",
       "      <td>2515.000000</td>\n",
       "      <td>2.515000e+03</td>\n",
       "    </tr>\n",
       "    <tr>\n",
       "      <th>mean</th>\n",
       "      <td>103.300230</td>\n",
       "      <td>105.456797</td>\n",
       "      <td>106.514394</td>\n",
       "      <td>104.283860</td>\n",
       "      <td>105.355575</td>\n",
       "      <td>1.097858e+08</td>\n",
       "    </tr>\n",
       "    <tr>\n",
       "      <th>std</th>\n",
       "      <td>68.884023</td>\n",
       "      <td>68.468984</td>\n",
       "      <td>69.142274</td>\n",
       "      <td>67.704724</td>\n",
       "      <td>68.391973</td>\n",
       "      <td>6.443827e+07</td>\n",
       "    </tr>\n",
       "    <tr>\n",
       "      <th>min</th>\n",
       "      <td>20.647461</td>\n",
       "      <td>22.584999</td>\n",
       "      <td>22.917500</td>\n",
       "      <td>22.367500</td>\n",
       "      <td>22.500000</td>\n",
       "      <td>2.323470e+07</td>\n",
       "    </tr>\n",
       "    <tr>\n",
       "      <th>25%</th>\n",
       "      <td>38.939802</td>\n",
       "      <td>41.272501</td>\n",
       "      <td>41.828749</td>\n",
       "      <td>40.837500</td>\n",
       "      <td>41.235001</td>\n",
       "      <td>6.687235e+07</td>\n",
       "    </tr>\n",
       "    <tr>\n",
       "      <th>50%</th>\n",
       "      <td>88.485023</td>\n",
       "      <td>91.027496</td>\n",
       "      <td>91.839996</td>\n",
       "      <td>89.629997</td>\n",
       "      <td>91.000000</td>\n",
       "      <td>9.440320e+07</td>\n",
       "    </tr>\n",
       "    <tr>\n",
       "      <th>75%</th>\n",
       "      <td>163.529388</td>\n",
       "      <td>165.824997</td>\n",
       "      <td>167.815002</td>\n",
       "      <td>164.369995</td>\n",
       "      <td>165.755005</td>\n",
       "      <td>1.335778e+08</td>\n",
       "    </tr>\n",
       "    <tr>\n",
       "      <th>max</th>\n",
       "      <td>258.396667</td>\n",
       "      <td>259.019989</td>\n",
       "      <td>260.100006</td>\n",
       "      <td>257.630005</td>\n",
       "      <td>258.190002</td>\n",
       "      <td>6.488252e+08</td>\n",
       "    </tr>\n",
       "  </tbody>\n",
       "</table>\n",
       "</div>"
      ],
      "text/plain": [
       "Price     Adj Close        Close         High          Low         Open  \\\n",
       "Ticker         AAPL         AAPL         AAPL         AAPL         AAPL   \n",
       "count   2515.000000  2515.000000  2515.000000  2515.000000  2515.000000   \n",
       "mean     103.300230   105.456797   106.514394   104.283860   105.355575   \n",
       "std       68.884023    68.468984    69.142274    67.704724    68.391973   \n",
       "min       20.647461    22.584999    22.917500    22.367500    22.500000   \n",
       "25%       38.939802    41.272501    41.828749    40.837500    41.235001   \n",
       "50%       88.485023    91.027496    91.839996    89.629997    91.000000   \n",
       "75%      163.529388   165.824997   167.815002   164.369995   165.755005   \n",
       "max      258.396667   259.019989   260.100006   257.630005   258.190002   \n",
       "\n",
       "Price         Volume  \n",
       "Ticker          AAPL  \n",
       "count   2.515000e+03  \n",
       "mean    1.097858e+08  \n",
       "std     6.443827e+07  \n",
       "min     2.323470e+07  \n",
       "25%     6.687235e+07  \n",
       "50%     9.440320e+07  \n",
       "75%     1.335778e+08  \n",
       "max     6.488252e+08  "
      ]
     },
     "execution_count": 9,
     "metadata": {},
     "output_type": "execute_result"
    }
   ],
   "source": [
    "df.describe()"
   ]
  },
  {
   "cell_type": "code",
   "execution_count": 10,
   "id": "9fbe12e7-4ba2-4318-9209-4ac56c0e66c9",
   "metadata": {},
   "outputs": [
    {
     "data": {
      "text/plain": [
       "Price      Ticker\n",
       "Adj Close  AAPL      float64\n",
       "Close      AAPL      float64\n",
       "High       AAPL      float64\n",
       "Low        AAPL      float64\n",
       "Open       AAPL      float64\n",
       "Volume     AAPL        int64\n",
       "dtype: object"
      ]
     },
     "execution_count": 10,
     "metadata": {},
     "output_type": "execute_result"
    }
   ],
   "source": [
    "df.dtypes"
   ]
  },
  {
   "cell_type": "code",
   "execution_count": 11,
   "id": "a9a85ee6-07a5-4de2-87be-ebe3420bc447",
   "metadata": {},
   "outputs": [],
   "source": [
    "df = df.reset_index()"
   ]
  },
  {
   "cell_type": "code",
   "execution_count": 12,
   "id": "5107f791-467b-46a1-acd1-6233fda1716d",
   "metadata": {},
   "outputs": [
    {
     "data": {
      "text/html": [
       "<div>\n",
       "<style scoped>\n",
       "    .dataframe tbody tr th:only-of-type {\n",
       "        vertical-align: middle;\n",
       "    }\n",
       "\n",
       "    .dataframe tbody tr th {\n",
       "        vertical-align: top;\n",
       "    }\n",
       "\n",
       "    .dataframe thead tr th {\n",
       "        text-align: left;\n",
       "    }\n",
       "</style>\n",
       "<table border=\"1\" class=\"dataframe\">\n",
       "  <thead>\n",
       "    <tr>\n",
       "      <th>Price</th>\n",
       "      <th>Date</th>\n",
       "      <th>Adj Close</th>\n",
       "      <th>Close</th>\n",
       "      <th>High</th>\n",
       "      <th>Low</th>\n",
       "      <th>Open</th>\n",
       "      <th>Volume</th>\n",
       "    </tr>\n",
       "    <tr>\n",
       "      <th>Ticker</th>\n",
       "      <th></th>\n",
       "      <th>AAPL</th>\n",
       "      <th>AAPL</th>\n",
       "      <th>AAPL</th>\n",
       "      <th>AAPL</th>\n",
       "      <th>AAPL</th>\n",
       "      <th>AAPL</th>\n",
       "    </tr>\n",
       "  </thead>\n",
       "  <tbody>\n",
       "    <tr>\n",
       "      <th>0</th>\n",
       "      <td>2015-07-01</td>\n",
       "      <td>28.354195</td>\n",
       "      <td>31.650000</td>\n",
       "      <td>31.735001</td>\n",
       "      <td>31.497499</td>\n",
       "      <td>31.725000</td>\n",
       "      <td>120955200</td>\n",
       "    </tr>\n",
       "    <tr>\n",
       "      <th>1</th>\n",
       "      <td>2015-07-02</td>\n",
       "      <td>28.318365</td>\n",
       "      <td>31.610001</td>\n",
       "      <td>31.672501</td>\n",
       "      <td>31.442499</td>\n",
       "      <td>31.607500</td>\n",
       "      <td>108844000</td>\n",
       "    </tr>\n",
       "    <tr>\n",
       "      <th>2</th>\n",
       "      <td>2015-07-06</td>\n",
       "      <td>28.219822</td>\n",
       "      <td>31.500000</td>\n",
       "      <td>31.557501</td>\n",
       "      <td>31.212500</td>\n",
       "      <td>31.235001</td>\n",
       "      <td>112241600</td>\n",
       "    </tr>\n",
       "    <tr>\n",
       "      <th>3</th>\n",
       "      <td>2015-07-07</td>\n",
       "      <td>28.150396</td>\n",
       "      <td>31.422501</td>\n",
       "      <td>31.537500</td>\n",
       "      <td>30.942499</td>\n",
       "      <td>31.472500</td>\n",
       "      <td>187787200</td>\n",
       "    </tr>\n",
       "    <tr>\n",
       "      <th>4</th>\n",
       "      <td>2015-07-08</td>\n",
       "      <td>27.451622</td>\n",
       "      <td>30.642500</td>\n",
       "      <td>31.160000</td>\n",
       "      <td>30.635000</td>\n",
       "      <td>31.120001</td>\n",
       "      <td>243046400</td>\n",
       "    </tr>\n",
       "  </tbody>\n",
       "</table>\n",
       "</div>"
      ],
      "text/plain": [
       "Price        Date  Adj Close      Close       High        Low       Open  \\\n",
       "Ticker                  AAPL       AAPL       AAPL       AAPL       AAPL   \n",
       "0      2015-07-01  28.354195  31.650000  31.735001  31.497499  31.725000   \n",
       "1      2015-07-02  28.318365  31.610001  31.672501  31.442499  31.607500   \n",
       "2      2015-07-06  28.219822  31.500000  31.557501  31.212500  31.235001   \n",
       "3      2015-07-07  28.150396  31.422501  31.537500  30.942499  31.472500   \n",
       "4      2015-07-08  27.451622  30.642500  31.160000  30.635000  31.120001   \n",
       "\n",
       "Price      Volume  \n",
       "Ticker       AAPL  \n",
       "0       120955200  \n",
       "1       108844000  \n",
       "2       112241600  \n",
       "3       187787200  \n",
       "4       243046400  "
      ]
     },
     "execution_count": 12,
     "metadata": {},
     "output_type": "execute_result"
    }
   ],
   "source": [
    "df.head()"
   ]
  },
  {
   "cell_type": "code",
   "execution_count": 13,
   "id": "8756c516-b4f9-43eb-93ed-6026da4bf9e2",
   "metadata": {},
   "outputs": [
    {
     "data": {
      "text/plain": [
       "Text(0, 0.5, 'Close price')"
      ]
     },
     "execution_count": 13,
     "metadata": {},
     "output_type": "execute_result"
    },
    {
     "data": {
      "image/png": "[encoded data removed]",
      "text/plain": [
       "<Figure size 1200x500 with 1 Axes>"
      ]
     },
     "metadata": {},
     "output_type": "display_data"
    }
   ],
   "source": [
    "plt.figure(figsize = (12,5))\n",
    "plt.plot(df.Close)\n",
    "plt.title(ticker)\n",
    "plt.xlabel('Days')\n",
    "plt.ylabel('Close price')"
   ]
  },
  {
   "cell_type": "markdown",
   "id": "86a7f0a2-c3f4-46f7-a2db-1c3fcdc3962e",
   "metadata": {},
   "source": [
    "# 3. Feature engineering"
   ]
  },
  {
   "cell_type": "markdown",
   "id": "03a1e316-2032-4799-94ba-c584b41dfcad",
   "metadata": {},
   "source": [
    "### 100 Days mooving average"
   ]
  },
  {
   "cell_type": "code",
   "execution_count": 14,
   "id": "29301861-2adb-40d9-b057-6971c8920c37",
   "metadata": {},
   "outputs": [
    {
     "data": {
      "text/html": [
       "<div>\n",
       "<style scoped>\n",
       "    .dataframe tbody tr th:only-of-type {\n",
       "        vertical-align: middle;\n",
       "    }\n",
       "\n",
       "    .dataframe tbody tr th {\n",
       "        vertical-align: top;\n",
       "    }\n",
       "\n",
       "    .dataframe thead tr th {\n",
       "        text-align: left;\n",
       "    }\n",
       "</style>\n",
       "<table border=\"1\" class=\"dataframe\">\n",
       "  <thead>\n",
       "    <tr>\n",
       "      <th>Price</th>\n",
       "      <th>Date</th>\n",
       "      <th>Adj Close</th>\n",
       "      <th>Close</th>\n",
       "      <th>High</th>\n",
       "      <th>Low</th>\n",
       "      <th>Open</th>\n",
       "      <th>Volume</th>\n",
       "      <th>MA_100</th>\n",
       "    </tr>\n",
       "    <tr>\n",
       "      <th>Ticker</th>\n",
       "      <th></th>\n",
       "      <th>AAPL</th>\n",
       "      <th>AAPL</th>\n",
       "      <th>AAPL</th>\n",
       "      <th>AAPL</th>\n",
       "      <th>AAPL</th>\n",
       "      <th>AAPL</th>\n",
       "      <th>AAPL</th>\n",
       "    </tr>\n",
       "  </thead>\n",
       "  <tbody>\n",
       "    <tr>\n",
       "      <th>0</th>\n",
       "      <td>2015-07-01</td>\n",
       "      <td>28.354195</td>\n",
       "      <td>31.650000</td>\n",
       "      <td>31.735001</td>\n",
       "      <td>31.497499</td>\n",
       "      <td>31.725000</td>\n",
       "      <td>120955200</td>\n",
       "      <td>NaN</td>\n",
       "    </tr>\n",
       "    <tr>\n",
       "      <th>1</th>\n",
       "      <td>2015-07-02</td>\n",
       "      <td>28.318365</td>\n",
       "      <td>31.610001</td>\n",
       "      <td>31.672501</td>\n",
       "      <td>31.442499</td>\n",
       "      <td>31.607500</td>\n",
       "      <td>108844000</td>\n",
       "      <td>NaN</td>\n",
       "    </tr>\n",
       "    <tr>\n",
       "      <th>2</th>\n",
       "      <td>2015-07-06</td>\n",
       "      <td>28.219822</td>\n",
       "      <td>31.500000</td>\n",
       "      <td>31.557501</td>\n",
       "      <td>31.212500</td>\n",
       "      <td>31.235001</td>\n",
       "      <td>112241600</td>\n",
       "      <td>NaN</td>\n",
       "    </tr>\n",
       "    <tr>\n",
       "      <th>3</th>\n",
       "      <td>2015-07-07</td>\n",
       "      <td>28.150396</td>\n",
       "      <td>31.422501</td>\n",
       "      <td>31.537500</td>\n",
       "      <td>30.942499</td>\n",
       "      <td>31.472500</td>\n",
       "      <td>187787200</td>\n",
       "      <td>NaN</td>\n",
       "    </tr>\n",
       "    <tr>\n",
       "      <th>4</th>\n",
       "      <td>2015-07-08</td>\n",
       "      <td>27.451622</td>\n",
       "      <td>30.642500</td>\n",
       "      <td>31.160000</td>\n",
       "      <td>30.635000</td>\n",
       "      <td>31.120001</td>\n",
       "      <td>243046400</td>\n",
       "      <td>NaN</td>\n",
       "    </tr>\n",
       "  </tbody>\n",
       "</table>\n",
       "</div>"
      ],
      "text/plain": [
       "Price        Date  Adj Close      Close       High        Low       Open  \\\n",
       "Ticker                  AAPL       AAPL       AAPL       AAPL       AAPL   \n",
       "0      2015-07-01  28.354195  31.650000  31.735001  31.497499  31.725000   \n",
       "1      2015-07-02  28.318365  31.610001  31.672501  31.442499  31.607500   \n",
       "2      2015-07-06  28.219822  31.500000  31.557501  31.212500  31.235001   \n",
       "3      2015-07-07  28.150396  31.422501  31.537500  30.942499  31.472500   \n",
       "4      2015-07-08  27.451622  30.642500  31.160000  30.635000  31.120001   \n",
       "\n",
       "Price      Volume MA_100  \n",
       "Ticker       AAPL   AAPL  \n",
       "0       120955200    NaN  \n",
       "1       108844000    NaN  \n",
       "2       112241600    NaN  \n",
       "3       187787200    NaN  \n",
       "4       243046400    NaN  "
      ]
     },
     "execution_count": 14,
     "metadata": {},
     "output_type": "execute_result"
    }
   ],
   "source": [
    "df[('MA_100', ticker)] = df[('Close', ticker)].rolling(100).mean()\n",
    "df.head()"
   ]
  },
  {
   "cell_type": "code",
   "execution_count": 15,
   "id": "067aa738-7852-4c42-810d-543a9fa779a6",
   "metadata": {},
   "outputs": [
    {
     "data": {
      "text/html": [
       "<div>\n",
       "<style scoped>\n",
       "    .dataframe tbody tr th:only-of-type {\n",
       "        vertical-align: middle;\n",
       "    }\n",
       "\n",
       "    .dataframe tbody tr th {\n",
       "        vertical-align: top;\n",
       "    }\n",
       "\n",
       "    .dataframe thead tr th {\n",
       "        text-align: left;\n",
       "    }\n",
       "</style>\n",
       "<table border=\"1\" class=\"dataframe\">\n",
       "  <thead>\n",
       "    <tr>\n",
       "      <th>Price</th>\n",
       "      <th>Date</th>\n",
       "      <th>Adj Close</th>\n",
       "      <th>Close</th>\n",
       "      <th>High</th>\n",
       "      <th>Low</th>\n",
       "      <th>Open</th>\n",
       "      <th>Volume</th>\n",
       "      <th>MA_100</th>\n",
       "    </tr>\n",
       "    <tr>\n",
       "      <th>Ticker</th>\n",
       "      <th></th>\n",
       "      <th>AAPL</th>\n",
       "      <th>AAPL</th>\n",
       "      <th>AAPL</th>\n",
       "      <th>AAPL</th>\n",
       "      <th>AAPL</th>\n",
       "      <th>AAPL</th>\n",
       "      <th>AAPL</th>\n",
       "    </tr>\n",
       "  </thead>\n",
       "  <tbody>\n",
       "    <tr>\n",
       "      <th>2510</th>\n",
       "      <td>2025-06-25</td>\n",
       "      <td>201.559998</td>\n",
       "      <td>201.559998</td>\n",
       "      <td>203.669998</td>\n",
       "      <td>200.619995</td>\n",
       "      <td>201.449997</td>\n",
       "      <td>39525700</td>\n",
       "      <td>213.5816</td>\n",
       "    </tr>\n",
       "    <tr>\n",
       "      <th>2511</th>\n",
       "      <td>2025-06-26</td>\n",
       "      <td>201.000000</td>\n",
       "      <td>201.000000</td>\n",
       "      <td>202.639999</td>\n",
       "      <td>199.460007</td>\n",
       "      <td>201.429993</td>\n",
       "      <td>50799100</td>\n",
       "      <td>213.2316</td>\n",
       "    </tr>\n",
       "    <tr>\n",
       "      <th>2512</th>\n",
       "      <td>2025-06-27</td>\n",
       "      <td>201.080002</td>\n",
       "      <td>201.080002</td>\n",
       "      <td>203.220001</td>\n",
       "      <td>200.000000</td>\n",
       "      <td>201.889999</td>\n",
       "      <td>73188600</td>\n",
       "      <td>212.9623</td>\n",
       "    </tr>\n",
       "    <tr>\n",
       "      <th>2513</th>\n",
       "      <td>2025-06-30</td>\n",
       "      <td>205.169998</td>\n",
       "      <td>205.169998</td>\n",
       "      <td>207.389999</td>\n",
       "      <td>199.259995</td>\n",
       "      <td>202.009995</td>\n",
       "      <td>91912800</td>\n",
       "      <td>212.6860</td>\n",
       "    </tr>\n",
       "    <tr>\n",
       "      <th>2514</th>\n",
       "      <td>2025-07-01</td>\n",
       "      <td>207.820007</td>\n",
       "      <td>207.820007</td>\n",
       "      <td>210.186493</td>\n",
       "      <td>206.140106</td>\n",
       "      <td>206.664993</td>\n",
       "      <td>77921627</td>\n",
       "      <td>212.4395</td>\n",
       "    </tr>\n",
       "  </tbody>\n",
       "</table>\n",
       "</div>"
      ],
      "text/plain": [
       "Price        Date   Adj Close       Close        High         Low        Open  \\\n",
       "Ticker                   AAPL        AAPL        AAPL        AAPL        AAPL   \n",
       "2510   2025-06-25  201.559998  201.559998  203.669998  200.619995  201.449997   \n",
       "2511   2025-06-26  201.000000  201.000000  202.639999  199.460007  201.429993   \n",
       "2512   2025-06-27  201.080002  201.080002  203.220001  200.000000  201.889999   \n",
       "2513   2025-06-30  205.169998  205.169998  207.389999  199.259995  202.009995   \n",
       "2514   2025-07-01  207.820007  207.820007  210.186493  206.140106  206.664993   \n",
       "\n",
       "Price     Volume    MA_100  \n",
       "Ticker      AAPL      AAPL  \n",
       "2510    39525700  213.5816  \n",
       "2511    50799100  213.2316  \n",
       "2512    73188600  212.9623  \n",
       "2513    91912800  212.6860  \n",
       "2514    77921627  212.4395  "
      ]
     },
     "execution_count": 15,
     "metadata": {},
     "output_type": "execute_result"
    }
   ],
   "source": [
    "df.tail()"
   ]
  },
  {
   "cell_type": "code",
   "execution_count": 16,
   "id": "2470cbb3-b345-4cbe-95ab-7a35d7f91efb",
   "metadata": {},
   "outputs": [
    {
     "data": {
      "image/png": "[encoded data removed]",
      "text/plain": [
       "<Figure size 1200x500 with 1 Axes>"
      ]
     },
     "metadata": {},
     "output_type": "display_data"
    }
   ],
   "source": [
    "plt.figure(figsize = (12,5));\n",
    "plt.plot(df.Close);\n",
    "plt.title('100 Days moving average');\n",
    "plt.xlabel('Days');\n",
    "plt.ylabel('Close price');\n",
    "plt.plot(df['MA_100'], 'r');"
   ]
  },
  {
   "cell_type": "markdown",
   "id": "3f6b4cd7-8e24-43ee-b816-629d9f4d5758",
   "metadata": {},
   "source": [
    "### 200 Days mooving average"
   ]
  },
  {
   "cell_type": "code",
   "execution_count": 17,
   "id": "6f5d4318-3acd-4890-ae85-80ccbdea0e0e",
   "metadata": {},
   "outputs": [
    {
     "data": {
      "text/html": [
       "<div>\n",
       "<style scoped>\n",
       "    .dataframe tbody tr th:only-of-type {\n",
       "        vertical-align: middle;\n",
       "    }\n",
       "\n",
       "    .dataframe tbody tr th {\n",
       "        vertical-align: top;\n",
       "    }\n",
       "\n",
       "    .dataframe thead tr th {\n",
       "        text-align: left;\n",
       "    }\n",
       "</style>\n",
       "<table border=\"1\" class=\"dataframe\">\n",
       "  <thead>\n",
       "    <tr>\n",
       "      <th>Price</th>\n",
       "      <th>Date</th>\n",
       "      <th>Adj Close</th>\n",
       "      <th>Close</th>\n",
       "      <th>High</th>\n",
       "      <th>Low</th>\n",
       "      <th>Open</th>\n",
       "      <th>Volume</th>\n",
       "      <th>MA_100</th>\n",
       "      <th>MA_200</th>\n",
       "    </tr>\n",
       "    <tr>\n",
       "      <th>Ticker</th>\n",
       "      <th></th>\n",
       "      <th>AAPL</th>\n",
       "      <th>AAPL</th>\n",
       "      <th>AAPL</th>\n",
       "      <th>AAPL</th>\n",
       "      <th>AAPL</th>\n",
       "      <th>AAPL</th>\n",
       "      <th>AAPL</th>\n",
       "      <th>AAPL</th>\n",
       "    </tr>\n",
       "  </thead>\n",
       "  <tbody>\n",
       "    <tr>\n",
       "      <th>0</th>\n",
       "      <td>2015-07-01</td>\n",
       "      <td>28.354195</td>\n",
       "      <td>31.650000</td>\n",
       "      <td>31.735001</td>\n",
       "      <td>31.497499</td>\n",
       "      <td>31.725000</td>\n",
       "      <td>120955200</td>\n",
       "      <td>NaN</td>\n",
       "      <td>NaN</td>\n",
       "    </tr>\n",
       "    <tr>\n",
       "      <th>1</th>\n",
       "      <td>2015-07-02</td>\n",
       "      <td>28.318365</td>\n",
       "      <td>31.610001</td>\n",
       "      <td>31.672501</td>\n",
       "      <td>31.442499</td>\n",
       "      <td>31.607500</td>\n",
       "      <td>108844000</td>\n",
       "      <td>NaN</td>\n",
       "      <td>NaN</td>\n",
       "    </tr>\n",
       "    <tr>\n",
       "      <th>2</th>\n",
       "      <td>2015-07-06</td>\n",
       "      <td>28.219822</td>\n",
       "      <td>31.500000</td>\n",
       "      <td>31.557501</td>\n",
       "      <td>31.212500</td>\n",
       "      <td>31.235001</td>\n",
       "      <td>112241600</td>\n",
       "      <td>NaN</td>\n",
       "      <td>NaN</td>\n",
       "    </tr>\n",
       "    <tr>\n",
       "      <th>3</th>\n",
       "      <td>2015-07-07</td>\n",
       "      <td>28.150396</td>\n",
       "      <td>31.422501</td>\n",
       "      <td>31.537500</td>\n",
       "      <td>30.942499</td>\n",
       "      <td>31.472500</td>\n",
       "      <td>187787200</td>\n",
       "      <td>NaN</td>\n",
       "      <td>NaN</td>\n",
       "    </tr>\n",
       "    <tr>\n",
       "      <th>4</th>\n",
       "      <td>2015-07-08</td>\n",
       "      <td>27.451622</td>\n",
       "      <td>30.642500</td>\n",
       "      <td>31.160000</td>\n",
       "      <td>30.635000</td>\n",
       "      <td>31.120001</td>\n",
       "      <td>243046400</td>\n",
       "      <td>NaN</td>\n",
       "      <td>NaN</td>\n",
       "    </tr>\n",
       "  </tbody>\n",
       "</table>\n",
       "</div>"
      ],
      "text/plain": [
       "Price        Date  Adj Close      Close       High        Low       Open  \\\n",
       "Ticker                  AAPL       AAPL       AAPL       AAPL       AAPL   \n",
       "0      2015-07-01  28.354195  31.650000  31.735001  31.497499  31.725000   \n",
       "1      2015-07-02  28.318365  31.610001  31.672501  31.442499  31.607500   \n",
       "2      2015-07-06  28.219822  31.500000  31.557501  31.212500  31.235001   \n",
       "3      2015-07-07  28.150396  31.422501  31.537500  30.942499  31.472500   \n",
       "4      2015-07-08  27.451622  30.642500  31.160000  30.635000  31.120001   \n",
       "\n",
       "Price      Volume MA_100 MA_200  \n",
       "Ticker       AAPL   AAPL   AAPL  \n",
       "0       120955200    NaN    NaN  \n",
       "1       108844000    NaN    NaN  \n",
       "2       112241600    NaN    NaN  \n",
       "3       187787200    NaN    NaN  \n",
       "4       243046400    NaN    NaN  "
      ]
     },
     "execution_count": 17,
     "metadata": {},
     "output_type": "execute_result"
    }
   ],
   "source": [
    "df[('MA_200', ticker)] = df[('Close', ticker)].rolling(200).mean()\n",
    "df.head()"
   ]
  },
  {
   "cell_type": "code",
   "execution_count": 18,
   "id": "8da269f3-8292-42b8-9a48-29a0b7ccd0cc",
   "metadata": {},
   "outputs": [
    {
     "data": {
      "text/html": [
       "<div>\n",
       "<style scoped>\n",
       "    .dataframe tbody tr th:only-of-type {\n",
       "        vertical-align: middle;\n",
       "    }\n",
       "\n",
       "    .dataframe tbody tr th {\n",
       "        vertical-align: top;\n",
       "    }\n",
       "\n",
       "    .dataframe thead tr th {\n",
       "        text-align: left;\n",
       "    }\n",
       "</style>\n",
       "<table border=\"1\" class=\"dataframe\">\n",
       "  <thead>\n",
       "    <tr>\n",
       "      <th>Price</th>\n",
       "      <th>Date</th>\n",
       "      <th>Adj Close</th>\n",
       "      <th>Close</th>\n",
       "      <th>High</th>\n",
       "      <th>Low</th>\n",
       "      <th>Open</th>\n",
       "      <th>Volume</th>\n",
       "      <th>MA_100</th>\n",
       "      <th>MA_200</th>\n",
       "    </tr>\n",
       "    <tr>\n",
       "      <th>Ticker</th>\n",
       "      <th></th>\n",
       "      <th>AAPL</th>\n",
       "      <th>AAPL</th>\n",
       "      <th>AAPL</th>\n",
       "      <th>AAPL</th>\n",
       "      <th>AAPL</th>\n",
       "      <th>AAPL</th>\n",
       "      <th>AAPL</th>\n",
       "      <th>AAPL</th>\n",
       "    </tr>\n",
       "  </thead>\n",
       "  <tbody>\n",
       "    <tr>\n",
       "      <th>2510</th>\n",
       "      <td>2025-06-25</td>\n",
       "      <td>201.559998</td>\n",
       "      <td>201.559998</td>\n",
       "      <td>203.669998</td>\n",
       "      <td>200.619995</td>\n",
       "      <td>201.449997</td>\n",
       "      <td>39525700</td>\n",
       "      <td>213.5816</td>\n",
       "      <td>223.53170</td>\n",
       "    </tr>\n",
       "    <tr>\n",
       "      <th>2511</th>\n",
       "      <td>2025-06-26</td>\n",
       "      <td>201.000000</td>\n",
       "      <td>201.000000</td>\n",
       "      <td>202.639999</td>\n",
       "      <td>199.460007</td>\n",
       "      <td>201.429993</td>\n",
       "      <td>50799100</td>\n",
       "      <td>213.2316</td>\n",
       "      <td>223.43260</td>\n",
       "    </tr>\n",
       "    <tr>\n",
       "      <th>2512</th>\n",
       "      <td>2025-06-27</td>\n",
       "      <td>201.080002</td>\n",
       "      <td>201.080002</td>\n",
       "      <td>203.220001</td>\n",
       "      <td>200.000000</td>\n",
       "      <td>201.889999</td>\n",
       "      <td>73188600</td>\n",
       "      <td>212.9623</td>\n",
       "      <td>223.33345</td>\n",
       "    </tr>\n",
       "    <tr>\n",
       "      <th>2513</th>\n",
       "      <td>2025-06-30</td>\n",
       "      <td>205.169998</td>\n",
       "      <td>205.169998</td>\n",
       "      <td>207.389999</td>\n",
       "      <td>199.259995</td>\n",
       "      <td>202.009995</td>\n",
       "      <td>91912800</td>\n",
       "      <td>212.6860</td>\n",
       "      <td>223.25875</td>\n",
       "    </tr>\n",
       "    <tr>\n",
       "      <th>2514</th>\n",
       "      <td>2025-07-01</td>\n",
       "      <td>207.820007</td>\n",
       "      <td>207.820007</td>\n",
       "      <td>210.186493</td>\n",
       "      <td>206.140106</td>\n",
       "      <td>206.664993</td>\n",
       "      <td>77921627</td>\n",
       "      <td>212.4395</td>\n",
       "      <td>223.18455</td>\n",
       "    </tr>\n",
       "  </tbody>\n",
       "</table>\n",
       "</div>"
      ],
      "text/plain": [
       "Price        Date   Adj Close       Close        High         Low        Open  \\\n",
       "Ticker                   AAPL        AAPL        AAPL        AAPL        AAPL   \n",
       "2510   2025-06-25  201.559998  201.559998  203.669998  200.619995  201.449997   \n",
       "2511   2025-06-26  201.000000  201.000000  202.639999  199.460007  201.429993   \n",
       "2512   2025-06-27  201.080002  201.080002  203.220001  200.000000  201.889999   \n",
       "2513   2025-06-30  205.169998  205.169998  207.389999  199.259995  202.009995   \n",
       "2514   2025-07-01  207.820007  207.820007  210.186493  206.140106  206.664993   \n",
       "\n",
       "Price     Volume    MA_100     MA_200  \n",
       "Ticker      AAPL      AAPL       AAPL  \n",
       "2510    39525700  213.5816  223.53170  \n",
       "2511    50799100  213.2316  223.43260  \n",
       "2512    73188600  212.9623  223.33345  \n",
       "2513    91912800  212.6860  223.25875  \n",
       "2514    77921627  212.4395  223.18455  "
      ]
     },
     "execution_count": 18,
     "metadata": {},
     "output_type": "execute_result"
    }
   ],
   "source": [
    "df.tail()"
   ]
  },
  {
   "cell_type": "code",
   "execution_count": 19,
   "id": "22222201-bfff-4add-822d-6a7c8b8a453b",
   "metadata": {},
   "outputs": [
    {
     "data": {
      "image/png": "[encoded data removed]",
      "text/plain": [
       "<Figure size 1200x500 with 1 Axes>"
      ]
     },
     "metadata": {},
     "output_type": "display_data"
    }
   ],
   "source": [
    "plt.figure(figsize = (12,5));\n",
    "plt.plot(df.Close);\n",
    "plt.title('200 Days moving average');\n",
    "plt.xlabel('Days');\n",
    "plt.ylabel('Close price');\n",
    "plt.plot(df['MA_200'], 'g');\n",
    "plt.plot(df['MA_100'], 'r');"
   ]
  },
  {
   "cell_type": "markdown",
   "id": "1dcbfd52-6830-4646-ba35-59ba68b498ad",
   "metadata": {},
   "source": [
    "### Calculating % change in each trading session"
   ]
  },
  {
   "cell_type": "code",
   "execution_count": 20,
   "id": "4c421dad-515c-4253-ae81-467d3baf4879",
   "metadata": {},
   "outputs": [
    {
     "data": {
      "text/html": [
       "<div>\n",
       "<style scoped>\n",
       "    .dataframe tbody tr th:only-of-type {\n",
       "        vertical-align: middle;\n",
       "    }\n",
       "\n",
       "    .dataframe tbody tr th {\n",
       "        vertical-align: top;\n",
       "    }\n",
       "\n",
       "    .dataframe thead tr th {\n",
       "        text-align: left;\n",
       "    }\n",
       "</style>\n",
       "<table border=\"1\" class=\"dataframe\">\n",
       "  <thead>\n",
       "    <tr>\n",
       "      <th>Price</th>\n",
       "      <th>Close</th>\n",
       "      <th>Percentage change</th>\n",
       "    </tr>\n",
       "    <tr>\n",
       "      <th>Ticker</th>\n",
       "      <th>AAPL</th>\n",
       "      <th>AAPL</th>\n",
       "    </tr>\n",
       "  </thead>\n",
       "  <tbody>\n",
       "    <tr>\n",
       "      <th>0</th>\n",
       "      <td>31.650000</td>\n",
       "      <td>NaN</td>\n",
       "    </tr>\n",
       "    <tr>\n",
       "      <th>1</th>\n",
       "      <td>31.610001</td>\n",
       "      <td>-0.001264</td>\n",
       "    </tr>\n",
       "    <tr>\n",
       "      <th>2</th>\n",
       "      <td>31.500000</td>\n",
       "      <td>-0.003480</td>\n",
       "    </tr>\n",
       "    <tr>\n",
       "      <th>3</th>\n",
       "      <td>31.422501</td>\n",
       "      <td>-0.002460</td>\n",
       "    </tr>\n",
       "    <tr>\n",
       "      <th>4</th>\n",
       "      <td>30.642500</td>\n",
       "      <td>-0.024823</td>\n",
       "    </tr>\n",
       "    <tr>\n",
       "      <th>...</th>\n",
       "      <td>...</td>\n",
       "      <td>...</td>\n",
       "    </tr>\n",
       "    <tr>\n",
       "      <th>2510</th>\n",
       "      <td>201.559998</td>\n",
       "      <td>0.006291</td>\n",
       "    </tr>\n",
       "    <tr>\n",
       "      <th>2511</th>\n",
       "      <td>201.000000</td>\n",
       "      <td>-0.002778</td>\n",
       "    </tr>\n",
       "    <tr>\n",
       "      <th>2512</th>\n",
       "      <td>201.080002</td>\n",
       "      <td>0.000398</td>\n",
       "    </tr>\n",
       "    <tr>\n",
       "      <th>2513</th>\n",
       "      <td>205.169998</td>\n",
       "      <td>0.020340</td>\n",
       "    </tr>\n",
       "    <tr>\n",
       "      <th>2514</th>\n",
       "      <td>207.820007</td>\n",
       "      <td>0.012916</td>\n",
       "    </tr>\n",
       "  </tbody>\n",
       "</table>\n",
       "<p>2515 rows × 2 columns</p>\n",
       "</div>"
      ],
      "text/plain": [
       "Price        Close Percentage change\n",
       "Ticker        AAPL              AAPL\n",
       "0        31.650000               NaN\n",
       "1        31.610001         -0.001264\n",
       "2        31.500000         -0.003480\n",
       "3        31.422501         -0.002460\n",
       "4        30.642500         -0.024823\n",
       "...            ...               ...\n",
       "2510    201.559998          0.006291\n",
       "2511    201.000000         -0.002778\n",
       "2512    201.080002          0.000398\n",
       "2513    205.169998          0.020340\n",
       "2514    207.820007          0.012916\n",
       "\n",
       "[2515 rows x 2 columns]"
      ]
     },
     "execution_count": 20,
     "metadata": {},
     "output_type": "execute_result"
    }
   ],
   "source": [
    "df[('Percentage change', ticker)] = df[('Close', ticker)].pct_change()\n",
    "df[[('Close',ticker), ('Percentage change', ticker)]]"
   ]
  },
  {
   "cell_type": "code",
   "execution_count": 21,
   "id": "e9212f8b-aa3f-4119-9b14-a15336fae0df",
   "metadata": {},
   "outputs": [
    {
     "data": {
      "image/png": "[encoded data removed]",
      "text/plain": [
       "<Figure size 1200x500 with 1 Axes>"
      ]
     },
     "metadata": {},
     "output_type": "display_data"
    }
   ],
   "source": [
    "plt.figure(figsize = (12,5));\n",
    "plt.plot(df['Percentage change']);"
   ]
  },
  {
   "cell_type": "markdown",
   "id": "863058a2-3afd-4253-910f-bf5aa6ac3220",
   "metadata": {},
   "source": [
    "# 4. Data preprocessing"
   ]
  },
  {
   "cell_type": "code",
   "execution_count": 22,
   "id": "19f22bb3-f75c-432b-a98c-f91966ffcdd5",
   "metadata": {},
   "outputs": [
    {
     "data": {
      "text/plain": [
       "(2515, 10)"
      ]
     },
     "execution_count": 22,
     "metadata": {},
     "output_type": "execute_result"
    }
   ],
   "source": [
    "df.shape"
   ]
  },
  {
   "cell_type": "markdown",
   "id": "e654a0bf-14a3-426d-992d-19a31234e09b",
   "metadata": {},
   "source": [
    "### Splitting data into training and testing datasets"
   ]
  },
  {
   "cell_type": "code",
   "execution_count": 23,
   "id": "e95be9ff-206b-4af0-bfdf-93e1d2a0aa23",
   "metadata": {},
   "outputs": [
    {
     "name": "stdout",
     "output_type": "stream",
     "text": [
      "Ticker        AAPL\n",
      "0        31.650000\n",
      "1        31.610001\n",
      "2        31.500000\n",
      "3        31.422501\n",
      "4        30.642500\n",
      "...            ...\n",
      "1755    135.869995\n",
      "1756    135.350006\n",
      "1757    138.270004\n",
      "1758    141.660004\n",
      "1759    141.660004\n",
      "\n",
      "[1760 rows x 1 columns]\n",
      "Ticker        AAPL\n",
      "1760    137.440002\n",
      "1761    139.229996\n",
      "1762    136.720001\n",
      "1763    138.929993\n",
      "1764    141.559998\n",
      "...            ...\n",
      "2510    201.559998\n",
      "2511    201.000000\n",
      "2512    201.080002\n",
      "2513    205.169998\n",
      "2514    207.820007\n",
      "\n",
      "[755 rows x 1 columns]\n"
     ]
    }
   ],
   "source": [
    "data_training = pd.DataFrame(df.Close[0:int(len(df)*0.7)])\n",
    "data_testing = pd.DataFrame(df.Close[int(len(df)*0.7):int(len(df))])\n",
    "\n",
    "print(data_training)\n",
    "print(data_testing)"
   ]
  },
  {
   "cell_type": "code",
   "execution_count": 24,
   "id": "39c7a0fb-3ab4-442f-a47c-b2918e70f44d",
   "metadata": {},
   "outputs": [
    {
     "data": {
      "text/html": [
       "<div>\n",
       "<style scoped>\n",
       "    .dataframe tbody tr th:only-of-type {\n",
       "        vertical-align: middle;\n",
       "    }\n",
       "\n",
       "    .dataframe tbody tr th {\n",
       "        vertical-align: top;\n",
       "    }\n",
       "\n",
       "    .dataframe thead th {\n",
       "        text-align: right;\n",
       "    }\n",
       "</style>\n",
       "<table border=\"1\" class=\"dataframe\">\n",
       "  <thead>\n",
       "    <tr style=\"text-align: right;\">\n",
       "      <th>Ticker</th>\n",
       "      <th>AAPL</th>\n",
       "    </tr>\n",
       "  </thead>\n",
       "  <tbody>\n",
       "    <tr>\n",
       "      <th>0</th>\n",
       "      <td>31.650000</td>\n",
       "    </tr>\n",
       "    <tr>\n",
       "      <th>1</th>\n",
       "      <td>31.610001</td>\n",
       "    </tr>\n",
       "    <tr>\n",
       "      <th>2</th>\n",
       "      <td>31.500000</td>\n",
       "    </tr>\n",
       "    <tr>\n",
       "      <th>3</th>\n",
       "      <td>31.422501</td>\n",
       "    </tr>\n",
       "    <tr>\n",
       "      <th>4</th>\n",
       "      <td>30.642500</td>\n",
       "    </tr>\n",
       "    <tr>\n",
       "      <th>...</th>\n",
       "      <td>...</td>\n",
       "    </tr>\n",
       "    <tr>\n",
       "      <th>1755</th>\n",
       "      <td>135.869995</td>\n",
       "    </tr>\n",
       "    <tr>\n",
       "      <th>1756</th>\n",
       "      <td>135.350006</td>\n",
       "    </tr>\n",
       "    <tr>\n",
       "      <th>1757</th>\n",
       "      <td>138.270004</td>\n",
       "    </tr>\n",
       "    <tr>\n",
       "      <th>1758</th>\n",
       "      <td>141.660004</td>\n",
       "    </tr>\n",
       "    <tr>\n",
       "      <th>1759</th>\n",
       "      <td>141.660004</td>\n",
       "    </tr>\n",
       "  </tbody>\n",
       "</table>\n",
       "<p>1760 rows × 1 columns</p>\n",
       "</div>"
      ],
      "text/plain": [
       "Ticker        AAPL\n",
       "0        31.650000\n",
       "1        31.610001\n",
       "2        31.500000\n",
       "3        31.422501\n",
       "4        30.642500\n",
       "...            ...\n",
       "1755    135.869995\n",
       "1756    135.350006\n",
       "1757    138.270004\n",
       "1758    141.660004\n",
       "1759    141.660004\n",
       "\n",
       "[1760 rows x 1 columns]"
      ]
     },
     "execution_count": 24,
     "metadata": {},
     "output_type": "execute_result"
    }
   ],
   "source": [
    "# Scaling down the data between 0 and 1\n",
    "data_training"
   ]
  },
  {
   "cell_type": "code",
   "execution_count": 25,
   "id": "a91f65f9-d426-497c-bfac-e63808d6a036",
   "metadata": {},
   "outputs": [],
   "source": [
    "from sklearn.preprocessing import MinMaxScaler\n",
    "scaler = MinMaxScaler(feature_range=(0,1))"
   ]
  },
  {
   "cell_type": "code",
   "execution_count": 26,
   "id": "852b3ee4-5e04-4eb1-b61f-43c7aec00022",
   "metadata": {},
   "outputs": [
    {
     "data": {
      "text/plain": [
       "array([[0.0568606 ],\n",
       "       [0.0566097 ],\n",
       "       [0.05591972],\n",
       "       ...,\n",
       "       [0.72563907],\n",
       "       [0.74690298],\n",
       "       [0.74690298]])"
      ]
     },
     "execution_count": 26,
     "metadata": {},
     "output_type": "execute_result"
    }
   ],
   "source": [
    "data_training_array = scaler.fit_transform(data_training)\n",
    "data_training_array"
   ]
  },
  {
   "cell_type": "markdown",
   "id": "e6dc9415-6426-4de1-bff2-af59c276ff2d",
   "metadata": {},
   "source": [
    "# 5. Sequence Creation"
   ]
  },
  {
   "cell_type": "code",
   "execution_count": 27,
   "id": "419c05a7-acd2-4369-9e36-f9eb93e36a3e",
   "metadata": {},
   "outputs": [],
   "source": [
    "x_train = []\n",
    "y_train = []\n",
    "\n",
    "for i in range(100, data_training_array.shape[0]):\n",
    "    x_train.append(data_training_array[i-100:i])\n",
    "    y_train.append(data_training_array[i])\n",
    "\n",
    "x_train, y_train = np.array(x_train), np.array(y_train)\n",
    "y_train = np.squeeze(y_train)"
   ]
  },
  {
   "cell_type": "code",
   "execution_count": 28,
   "id": "a25dae76-576e-4c46-8be5-de856b0f8e56",
   "metadata": {},
   "outputs": [
    {
     "data": {
      "text/plain": [
       "array([[[0.0568606 ],\n",
       "        [0.0566097 ],\n",
       "        [0.05591972],\n",
       "        ...,\n",
       "        [0.03661597],\n",
       "        [0.04226126],\n",
       "        [0.04459778]],\n",
       "\n",
       "       [[0.0566097 ],\n",
       "        [0.05591972],\n",
       "        [0.0554336 ],\n",
       "        ...,\n",
       "        [0.04226126],\n",
       "        [0.04459778],\n",
       "        [0.04541322]],\n",
       "\n",
       "       [[0.05591972],\n",
       "        [0.0554336 ],\n",
       "        [0.05054101],\n",
       "        ...,\n",
       "        [0.04459778],\n",
       "        [0.04541322],\n",
       "        [0.0429826 ]],\n",
       "\n",
       "       ...,\n",
       "\n",
       "       [[0.92673675],\n",
       "        [0.95464955],\n",
       "        [0.95358323],\n",
       "        ...,\n",
       "        [0.68355027],\n",
       "        [0.71058491],\n",
       "        [0.70732326]],\n",
       "\n",
       "       [[0.95464955],\n",
       "        [0.95358323],\n",
       "        [0.96129843],\n",
       "        ...,\n",
       "        [0.71058491],\n",
       "        [0.70732326],\n",
       "        [0.72563907]],\n",
       "\n",
       "       [[0.95358323],\n",
       "        [0.96129843],\n",
       "        [0.94285714],\n",
       "        ...,\n",
       "        [0.70732326],\n",
       "        [0.72563907],\n",
       "        [0.74690298]]])"
      ]
     },
     "execution_count": 28,
     "metadata": {},
     "output_type": "execute_result"
    }
   ],
   "source": [
    "x_train"
   ]
  },
  {
   "cell_type": "code",
   "execution_count": 29,
   "id": "18e8048f-29d3-4196-b3bb-2c05fce3af60",
   "metadata": {},
   "outputs": [
    {
     "data": {
      "text/plain": [
       "array([0.04541322, 0.0429826 , 0.04475459, ..., 0.72563907, 0.74690298,\n",
       "       0.74690298])"
      ]
     },
     "execution_count": 29,
     "metadata": {},
     "output_type": "execute_result"
    }
   ],
   "source": [
    "y_train"
   ]
  },
  {
   "cell_type": "code",
   "execution_count": 30,
   "id": "5532e9ba-a231-4fbe-ba1a-11c884b0321a",
   "metadata": {},
   "outputs": [
    {
     "data": {
      "text/plain": [
       "3"
      ]
     },
     "execution_count": 30,
     "metadata": {},
     "output_type": "execute_result"
    }
   ],
   "source": [
    "x_train.ndim"
   ]
  },
  {
   "cell_type": "code",
   "execution_count": 31,
   "id": "fb3caa1f-8103-4c28-9811-30e667c45a6f",
   "metadata": {},
   "outputs": [
    {
     "data": {
      "text/plain": [
       "1"
      ]
     },
     "execution_count": 31,
     "metadata": {},
     "output_type": "execute_result"
    }
   ],
   "source": [
    "y_train.ndim"
   ]
  },
  {
   "cell_type": "code",
   "execution_count": 32,
   "id": "6b34b7e6-07d2-4262-959c-f16b5ae53e7a",
   "metadata": {},
   "outputs": [
    {
     "data": {
      "text/plain": [
       "(1660, 100, 1)"
      ]
     },
     "execution_count": 32,
     "metadata": {},
     "output_type": "execute_result"
    }
   ],
   "source": [
    "x_train.shape"
   ]
  },
  {
   "cell_type": "code",
   "execution_count": 33,
   "id": "18aec4d6-9825-44b6-82d4-9b6297f5a624",
   "metadata": {},
   "outputs": [
    {
     "data": {
      "text/plain": [
       "(1660,)"
      ]
     },
     "execution_count": 33,
     "metadata": {},
     "output_type": "execute_result"
    }
   ],
   "source": [
    "y_train.shape"
   ]
  },
  {
   "cell_type": "markdown",
   "id": "2e5d3fe2-ac69-45f4-8208-d2a65c8045f0",
   "metadata": {},
   "source": [
    "# 6. Model building"
   ]
  },
  {
   "cell_type": "code",
   "execution_count": 34,
   "id": "d7de214b-82f3-427b-9c3e-3577234ec76d",
   "metadata": {},
   "outputs": [
    {
     "name": "stdout",
     "output_type": "stream",
     "text": [
      "2.19.0\n"
     ]
    }
   ],
   "source": [
    "import tensorflow as tf\n",
    "print(tf.__version__)"
   ]
  },
  {
   "cell_type": "code",
   "execution_count": 35,
   "id": "36132991-cf6b-4b6c-b7fb-65bc1d866bc9",
   "metadata": {},
   "outputs": [],
   "source": [
    "# ML model\n",
    "from tensorflow.keras.models import Sequential"
   ]
  },
  {
   "cell_type": "code",
   "execution_count": 36,
   "id": "da5806ac-f7a5-40e1-8920-cf54d41457b1",
   "metadata": {},
   "outputs": [],
   "source": [
    "from tensorflow.keras.layers import Dense, LSTM, Input"
   ]
  },
  {
   "cell_type": "code",
   "execution_count": 37,
   "id": "64a81106-2c30-41d2-bf3b-c514751d41a6",
   "metadata": {},
   "outputs": [],
   "source": [
    "model = Sequential()\n",
    "\n",
    "model.add(Input(shape=(100,1)))\n",
    "model.add(LSTM(units=128, activation='tanh', return_sequences=True))\n",
    "model.add(LSTM(units=64))\n",
    "model.add(Dense(25))\n",
    "model.add(Dense(1))"
   ]
  },
  {
   "cell_type": "markdown",
   "id": "b529a1f9-01bf-41e3-b7db-37ed0798b47a",
   "metadata": {},
   "source": [
    "# 7. Model training"
   ]
  },
  {
   "cell_type": "code",
   "execution_count": 38,
   "id": "cc5ac647-6d35-466b-a54a-dec7ebd15d82",
   "metadata": {},
   "outputs": [
    {
     "name": "stdout",
     "output_type": "stream",
     "text": [
      "Epoch 1/50\n",
      "\u001b[1m52/52\u001b[0m \u001b[32m━━━━━━━━━━━━━━━━━━━━\u001b[0m\u001b[37m\u001b[0m \u001b[1m4s\u001b[0m 62ms/step - loss: 0.0281\n",
      "Epoch 2/50\n",
      "\u001b[1m52/52\u001b[0m \u001b[32m━━━━━━━━━━━━━━━━━━━━\u001b[0m\u001b[37m\u001b[0m \u001b[1m3s\u001b[0m 60ms/step - loss: 5.7440e-04\n",
      "Epoch 3/50\n",
      "\u001b[1m52/52\u001b[0m \u001b[32m━━━━━━━━━━━━━━━━━━━━\u001b[0m\u001b[37m\u001b[0m \u001b[1m3s\u001b[0m 61ms/step - loss: 5.1597e-04\n",
      "Epoch 4/50\n",
      "\u001b[1m52/52\u001b[0m \u001b[32m━━━━━━━━━━━━━━━━━━━━\u001b[0m\u001b[37m\u001b[0m \u001b[1m3s\u001b[0m 59ms/step - loss: 5.0128e-04\n",
      "Epoch 5/50\n",
      "\u001b[1m52/52\u001b[0m \u001b[32m━━━━━━━━━━━━━━━━━━━━\u001b[0m\u001b[37m\u001b[0m \u001b[1m3s\u001b[0m 60ms/step - loss: 4.3962e-04\n",
      "Epoch 6/50\n",
      "\u001b[1m52/52\u001b[0m \u001b[32m━━━━━━━━━━━━━━━━━━━━\u001b[0m\u001b[37m\u001b[0m \u001b[1m3s\u001b[0m 60ms/step - loss: 5.2923e-04\n",
      "Epoch 7/50\n",
      "\u001b[1m52/52\u001b[0m \u001b[32m━━━━━━━━━━━━━━━━━━━━\u001b[0m\u001b[37m\u001b[0m \u001b[1m3s\u001b[0m 61ms/step - loss: 4.0174e-04\n",
      "Epoch 8/50\n",
      "\u001b[1m52/52\u001b[0m \u001b[32m━━━━━━━━━━━━━━━━━━━━\u001b[0m\u001b[37m\u001b[0m \u001b[1m3s\u001b[0m 60ms/step - loss: 5.5339e-04\n",
      "Epoch 9/50\n",
      "\u001b[1m52/52\u001b[0m \u001b[32m━━━━━━━━━━━━━━━━━━━━\u001b[0m\u001b[37m\u001b[0m \u001b[1m3s\u001b[0m 60ms/step - loss: 3.9133e-04\n",
      "Epoch 10/50\n",
      "\u001b[1m52/52\u001b[0m \u001b[32m━━━━━━━━━━━━━━━━━━━━\u001b[0m\u001b[37m\u001b[0m \u001b[1m3s\u001b[0m 60ms/step - loss: 4.3385e-04\n",
      "Epoch 11/50\n",
      "\u001b[1m52/52\u001b[0m \u001b[32m━━━━━━━━━━━━━━━━━━━━\u001b[0m\u001b[37m\u001b[0m \u001b[1m3s\u001b[0m 66ms/step - loss: 4.2284e-04\n",
      "Epoch 12/50\n",
      "\u001b[1m52/52\u001b[0m \u001b[32m━━━━━━━━━━━━━━━━━━━━\u001b[0m\u001b[37m\u001b[0m \u001b[1m3s\u001b[0m 61ms/step - loss: 5.8598e-04\n",
      "Epoch 13/50\n",
      "\u001b[1m52/52\u001b[0m \u001b[32m━━━━━━━━━━━━━━━━━━━━\u001b[0m\u001b[37m\u001b[0m \u001b[1m3s\u001b[0m 65ms/step - loss: 3.2739e-04\n",
      "Epoch 14/50\n",
      "\u001b[1m52/52\u001b[0m \u001b[32m━━━━━━━━━━━━━━━━━━━━\u001b[0m\u001b[37m\u001b[0m \u001b[1m3s\u001b[0m 61ms/step - loss: 3.6404e-04\n",
      "Epoch 15/50\n",
      "\u001b[1m52/52\u001b[0m \u001b[32m━━━━━━━━━━━━━━━━━━━━\u001b[0m\u001b[37m\u001b[0m \u001b[1m3s\u001b[0m 62ms/step - loss: 3.0800e-04\n",
      "Epoch 16/50\n",
      "\u001b[1m52/52\u001b[0m \u001b[32m━━━━━━━━━━━━━━━━━━━━\u001b[0m\u001b[37m\u001b[0m \u001b[1m3s\u001b[0m 61ms/step - loss: 3.6843e-04\n",
      "Epoch 17/50\n",
      "\u001b[1m52/52\u001b[0m \u001b[32m━━━━━━━━━━━━━━━━━━━━\u001b[0m\u001b[37m\u001b[0m \u001b[1m3s\u001b[0m 60ms/step - loss: 3.3368e-04\n",
      "Epoch 18/50\n",
      "\u001b[1m52/52\u001b[0m \u001b[32m━━━━━━━━━━━━━━━━━━━━\u001b[0m\u001b[37m\u001b[0m \u001b[1m3s\u001b[0m 62ms/step - loss: 2.9885e-04\n",
      "Epoch 19/50\n",
      "\u001b[1m52/52\u001b[0m \u001b[32m━━━━━━━━━━━━━━━━━━━━\u001b[0m\u001b[37m\u001b[0m \u001b[1m3s\u001b[0m 61ms/step - loss: 2.6249e-04\n",
      "Epoch 20/50\n",
      "\u001b[1m52/52\u001b[0m \u001b[32m━━━━━━━━━━━━━━━━━━━━\u001b[0m\u001b[37m\u001b[0m \u001b[1m3s\u001b[0m 63ms/step - loss: 2.9243e-04\n",
      "Epoch 21/50\n",
      "\u001b[1m52/52\u001b[0m \u001b[32m━━━━━━━━━━━━━━━━━━━━\u001b[0m\u001b[37m\u001b[0m \u001b[1m3s\u001b[0m 65ms/step - loss: 2.8712e-04\n",
      "Epoch 22/50\n",
      "\u001b[1m52/52\u001b[0m \u001b[32m━━━━━━━━━━━━━━━━━━━━\u001b[0m\u001b[37m\u001b[0m \u001b[1m3s\u001b[0m 61ms/step - loss: 3.0485e-04\n",
      "Epoch 23/50\n",
      "\u001b[1m52/52\u001b[0m \u001b[32m━━━━━━━━━━━━━━━━━━━━\u001b[0m\u001b[37m\u001b[0m \u001b[1m3s\u001b[0m 63ms/step - loss: 2.8047e-04\n",
      "Epoch 24/50\n",
      "\u001b[1m52/52\u001b[0m \u001b[32m━━━━━━━━━━━━━━━━━━━━\u001b[0m\u001b[37m\u001b[0m \u001b[1m3s\u001b[0m 64ms/step - loss: 2.4098e-04\n",
      "Epoch 25/50\n",
      "\u001b[1m52/52\u001b[0m \u001b[32m━━━━━━━━━━━━━━━━━━━━\u001b[0m\u001b[37m\u001b[0m \u001b[1m3s\u001b[0m 60ms/step - loss: 2.6183e-04\n",
      "Epoch 26/50\n",
      "\u001b[1m52/52\u001b[0m \u001b[32m━━━━━━━━━━━━━━━━━━━━\u001b[0m\u001b[37m\u001b[0m \u001b[1m4s\u001b[0m 69ms/step - loss: 2.8869e-04\n",
      "Epoch 27/50\n",
      "\u001b[1m52/52\u001b[0m \u001b[32m━━━━━━━━━━━━━━━━━━━━\u001b[0m\u001b[37m\u001b[0m \u001b[1m3s\u001b[0m 63ms/step - loss: 1.9729e-04\n",
      "Epoch 28/50\n",
      "\u001b[1m52/52\u001b[0m \u001b[32m━━━━━━━━━━━━━━━━━━━━\u001b[0m\u001b[37m\u001b[0m \u001b[1m3s\u001b[0m 64ms/step - loss: 2.5447e-04\n",
      "Epoch 29/50\n",
      "\u001b[1m52/52\u001b[0m \u001b[32m━━━━━━━━━━━━━━━━━━━━\u001b[0m\u001b[37m\u001b[0m \u001b[1m3s\u001b[0m 63ms/step - loss: 2.7136e-04\n",
      "Epoch 30/50\n",
      "\u001b[1m52/52\u001b[0m \u001b[32m━━━━━━━━━━━━━━━━━━━━\u001b[0m\u001b[37m\u001b[0m \u001b[1m3s\u001b[0m 63ms/step - loss: 2.0759e-04\n",
      "Epoch 31/50\n",
      "\u001b[1m52/52\u001b[0m \u001b[32m━━━━━━━━━━━━━━━━━━━━\u001b[0m\u001b[37m\u001b[0m \u001b[1m3s\u001b[0m 62ms/step - loss: 1.9363e-04\n",
      "Epoch 32/50\n",
      "\u001b[1m52/52\u001b[0m \u001b[32m━━━━━━━━━━━━━━━━━━━━\u001b[0m\u001b[37m\u001b[0m \u001b[1m3s\u001b[0m 65ms/step - loss: 1.8795e-04\n",
      "Epoch 33/50\n",
      "\u001b[1m52/52\u001b[0m \u001b[32m━━━━━━━━━━━━━━━━━━━━\u001b[0m\u001b[37m\u001b[0m \u001b[1m3s\u001b[0m 61ms/step - loss: 2.2036e-04\n",
      "Epoch 34/50\n",
      "\u001b[1m52/52\u001b[0m \u001b[32m━━━━━━━━━━━━━━━━━━━━\u001b[0m\u001b[37m\u001b[0m \u001b[1m3s\u001b[0m 64ms/step - loss: 1.8957e-04\n",
      "Epoch 35/50\n",
      "\u001b[1m52/52\u001b[0m \u001b[32m━━━━━━━━━━━━━━━━━━━━\u001b[0m\u001b[37m\u001b[0m \u001b[1m3s\u001b[0m 64ms/step - loss: 1.9933e-04\n",
      "Epoch 36/50\n",
      "\u001b[1m52/52\u001b[0m \u001b[32m━━━━━━━━━━━━━━━━━━━━\u001b[0m\u001b[37m\u001b[0m \u001b[1m3s\u001b[0m 66ms/step - loss: 2.1256e-04\n",
      "Epoch 37/50\n",
      "\u001b[1m52/52\u001b[0m \u001b[32m━━━━━━━━━━━━━━━━━━━━\u001b[0m\u001b[37m\u001b[0m \u001b[1m3s\u001b[0m 66ms/step - loss: 2.0051e-04\n",
      "Epoch 38/50\n",
      "\u001b[1m52/52\u001b[0m \u001b[32m━━━━━━━━━━━━━━━━━━━━\u001b[0m\u001b[37m\u001b[0m \u001b[1m3s\u001b[0m 65ms/step - loss: 2.1016e-04\n",
      "Epoch 39/50\n",
      "\u001b[1m52/52\u001b[0m \u001b[32m━━━━━━━━━━━━━━━━━━━━\u001b[0m\u001b[37m\u001b[0m \u001b[1m3s\u001b[0m 63ms/step - loss: 2.3243e-04\n",
      "Epoch 40/50\n",
      "\u001b[1m52/52\u001b[0m \u001b[32m━━━━━━━━━━━━━━━━━━━━\u001b[0m\u001b[37m\u001b[0m \u001b[1m3s\u001b[0m 60ms/step - loss: 1.7556e-04\n",
      "Epoch 41/50\n",
      "\u001b[1m52/52\u001b[0m \u001b[32m━━━━━━━━━━━━━━━━━━━━\u001b[0m\u001b[37m\u001b[0m \u001b[1m3s\u001b[0m 62ms/step - loss: 2.0361e-04\n",
      "Epoch 42/50\n",
      "\u001b[1m52/52\u001b[0m \u001b[32m━━━━━━━━━━━━━━━━━━━━\u001b[0m\u001b[37m\u001b[0m \u001b[1m3s\u001b[0m 63ms/step - loss: 2.2815e-04\n",
      "Epoch 43/50\n",
      "\u001b[1m52/52\u001b[0m \u001b[32m━━━━━━━━━━━━━━━━━━━━\u001b[0m\u001b[37m\u001b[0m \u001b[1m3s\u001b[0m 63ms/step - loss: 1.9673e-04\n",
      "Epoch 44/50\n",
      "\u001b[1m52/52\u001b[0m \u001b[32m━━━━━━━━━━━━━━━━━━━━\u001b[0m\u001b[37m\u001b[0m \u001b[1m3s\u001b[0m 63ms/step - loss: 2.2127e-04\n",
      "Epoch 45/50\n",
      "\u001b[1m52/52\u001b[0m \u001b[32m━━━━━━━━━━━━━━━━━━━━\u001b[0m\u001b[37m\u001b[0m \u001b[1m3s\u001b[0m 63ms/step - loss: 1.6924e-04\n",
      "Epoch 46/50\n",
      "\u001b[1m52/52\u001b[0m \u001b[32m━━━━━━━━━━━━━━━━━━━━\u001b[0m\u001b[37m\u001b[0m \u001b[1m3s\u001b[0m 66ms/step - loss: 1.6514e-04\n",
      "Epoch 47/50\n",
      "\u001b[1m52/52\u001b[0m \u001b[32m━━━━━━━━━━━━━━━━━━━━\u001b[0m\u001b[37m\u001b[0m \u001b[1m3s\u001b[0m 66ms/step - loss: 1.5833e-04\n",
      "Epoch 48/50\n",
      "\u001b[1m52/52\u001b[0m \u001b[32m━━━━━━━━━━━━━━━━━━━━\u001b[0m\u001b[37m\u001b[0m \u001b[1m3s\u001b[0m 65ms/step - loss: 1.7633e-04\n",
      "Epoch 49/50\n",
      "\u001b[1m52/52\u001b[0m \u001b[32m━━━━━━━━━━━━━━━━━━━━\u001b[0m\u001b[37m\u001b[0m \u001b[1m3s\u001b[0m 63ms/step - loss: 1.8137e-04\n",
      "Epoch 50/50\n",
      "\u001b[1m52/52\u001b[0m \u001b[32m━━━━━━━━━━━━━━━━━━━━\u001b[0m\u001b[37m\u001b[0m \u001b[1m3s\u001b[0m 63ms/step - loss: 1.6980e-04\n"
     ]
    },
    {
     "data": {
      "text/plain": [
       "<keras.src.callbacks.history.History at 0x302413940>"
      ]
     },
     "execution_count": 38,
     "metadata": {},
     "output_type": "execute_result"
    }
   ],
   "source": [
    "model.compile(optimizer='adam', loss='mean_squared_error')\n",
    "model.fit(x_train, y_train, epochs=50)"
   ]
  },
  {
   "cell_type": "code",
   "execution_count": 39,
   "id": "012a69ed-81af-4894-a8de-429e79d5dde1",
   "metadata": {},
   "outputs": [
    {
     "data": {
      "text/html": [
       "<pre style=\"white-space:pre;overflow-x:auto;line-height:normal;font-family:Menlo,'DejaVu Sans Mono',consolas,'Courier New',monospace\"><span style=\"font-weight: bold\">Model: \"sequential\"</span>\n",
       "</pre>\n"
      ],
      "text/plain": [
       "\u001b[1mModel: \"sequential\"\u001b[0m\n"
      ]
     },
     "metadata": {},
     "output_type": "display_data"
    },
    {
     "data": {
      "text/html": [
       "<pre style=\"white-space:pre;overflow-x:auto;line-height:normal;font-family:Menlo,'DejaVu Sans Mono',consolas,'Courier New',monospace\">┏━━━━━━━━━━━━━━━━━━━━━━━━━━━━━━━━━┳━━━━━━━━━━━━━━━━━━━━━━━━┳━━━━━━━━━━━━━━━┓\n",
       "┃<span style=\"font-weight: bold\"> Layer (type)                    </span>┃<span style=\"font-weight: bold\"> Output Shape           </span>┃<span style=\"font-weight: bold\">       Param # </span>┃\n",
       "┡━━━━━━━━━━━━━━━━━━━━━━━━━━━━━━━━━╇━━━━━━━━━━━━━━━━━━━━━━━━╇━━━━━━━━━━━━━━━┩\n",
       "│ lstm (<span style=\"color: #0087ff; text-decoration-color: #0087ff\">LSTM</span>)                     │ (<span style=\"color: #00d7ff; text-decoration-color: #00d7ff\">None</span>, <span style=\"color: #00af00; text-decoration-color: #00af00\">100</span>, <span style=\"color: #00af00; text-decoration-color: #00af00\">128</span>)       │        <span style=\"color: #00af00; text-decoration-color: #00af00\">66,560</span> │\n",
       "├─────────────────────────────────┼────────────────────────┼───────────────┤\n",
       "│ lstm_1 (<span style=\"color: #0087ff; text-decoration-color: #0087ff\">LSTM</span>)                   │ (<span style=\"color: #00d7ff; text-decoration-color: #00d7ff\">None</span>, <span style=\"color: #00af00; text-decoration-color: #00af00\">64</span>)             │        <span style=\"color: #00af00; text-decoration-color: #00af00\">49,408</span> │\n",
       "├─────────────────────────────────┼────────────────────────┼───────────────┤\n",
       "│ dense (<span style=\"color: #0087ff; text-decoration-color: #0087ff\">Dense</span>)                   │ (<span style=\"color: #00d7ff; text-decoration-color: #00d7ff\">None</span>, <span style=\"color: #00af00; text-decoration-color: #00af00\">25</span>)             │         <span style=\"color: #00af00; text-decoration-color: #00af00\">1,625</span> │\n",
       "├─────────────────────────────────┼────────────────────────┼───────────────┤\n",
       "│ dense_1 (<span style=\"color: #0087ff; text-decoration-color: #0087ff\">Dense</span>)                 │ (<span style=\"color: #00d7ff; text-decoration-color: #00d7ff\">None</span>, <span style=\"color: #00af00; text-decoration-color: #00af00\">1</span>)              │            <span style=\"color: #00af00; text-decoration-color: #00af00\">26</span> │\n",
       "└─────────────────────────────────┴────────────────────────┴───────────────┘\n",
       "</pre>\n"
      ],
      "text/plain": [
       "┏━━━━━━━━━━━━━━━━━━━━━━━━━━━━━━━━━┳━━━━━━━━━━━━━━━━━━━━━━━━┳━━━━━━━━━━━━━━━┓\n",
       "┃\u001b[1m \u001b[0m\u001b[1mLayer (type)                   \u001b[0m\u001b[1m \u001b[0m┃\u001b[1m \u001b[0m\u001b[1mOutput Shape          \u001b[0m\u001b[1m \u001b[0m┃\u001b[1m \u001b[0m\u001b[1m      Param #\u001b[0m\u001b[1m \u001b[0m┃\n",
       "┡━━━━━━━━━━━━━━━━━━━━━━━━━━━━━━━━━╇━━━━━━━━━━━━━━━━━━━━━━━━╇━━━━━━━━━━━━━━━┩\n",
       "│ lstm (\u001b[38;5;33mLSTM\u001b[0m)                     │ (\u001b[38;5;45mNone\u001b[0m, \u001b[38;5;34m100\u001b[0m, \u001b[38;5;34m128\u001b[0m)       │        \u001b[38;5;34m66,560\u001b[0m │\n",
       "├─────────────────────────────────┼────────────────────────┼───────────────┤\n",
       "│ lstm_1 (\u001b[38;5;33mLSTM\u001b[0m)                   │ (\u001b[38;5;45mNone\u001b[0m, \u001b[38;5;34m64\u001b[0m)             │        \u001b[38;5;34m49,408\u001b[0m │\n",
       "├─────────────────────────────────┼────────────────────────┼───────────────┤\n",
       "│ dense (\u001b[38;5;33mDense\u001b[0m)                   │ (\u001b[38;5;45mNone\u001b[0m, \u001b[38;5;34m25\u001b[0m)             │         \u001b[38;5;34m1,625\u001b[0m │\n",
       "├─────────────────────────────────┼────────────────────────┼───────────────┤\n",
       "│ dense_1 (\u001b[38;5;33mDense\u001b[0m)                 │ (\u001b[38;5;45mNone\u001b[0m, \u001b[38;5;34m1\u001b[0m)              │            \u001b[38;5;34m26\u001b[0m │\n",
       "└─────────────────────────────────┴────────────────────────┴───────────────┘\n"
      ]
     },
     "metadata": {},
     "output_type": "display_data"
    },
    {
     "data": {
      "text/html": [
       "<pre style=\"white-space:pre;overflow-x:auto;line-height:normal;font-family:Menlo,'DejaVu Sans Mono',consolas,'Courier New',monospace\"><span style=\"font-weight: bold\"> Total params: </span><span style=\"color: #00af00; text-decoration-color: #00af00\">352,859</span> (1.35 MB)\n",
       "</pre>\n"
      ],
      "text/plain": [
       "\u001b[1m Total params: \u001b[0m\u001b[38;5;34m352,859\u001b[0m (1.35 MB)\n"
      ]
     },
     "metadata": {},
     "output_type": "display_data"
    },
    {
     "data": {
      "text/html": [
       "<pre style=\"white-space:pre;overflow-x:auto;line-height:normal;font-family:Menlo,'DejaVu Sans Mono',consolas,'Courier New',monospace\"><span style=\"font-weight: bold\"> Trainable params: </span><span style=\"color: #00af00; text-decoration-color: #00af00\">117,619</span> (459.45 KB)\n",
       "</pre>\n"
      ],
      "text/plain": [
       "\u001b[1m Trainable params: \u001b[0m\u001b[38;5;34m117,619\u001b[0m (459.45 KB)\n"
      ]
     },
     "metadata": {},
     "output_type": "display_data"
    },
    {
     "data": {
      "text/html": [
       "<pre style=\"white-space:pre;overflow-x:auto;line-height:normal;font-family:Menlo,'DejaVu Sans Mono',consolas,'Courier New',monospace\"><span style=\"font-weight: bold\"> Non-trainable params: </span><span style=\"color: #00af00; text-decoration-color: #00af00\">0</span> (0.00 B)\n",
       "</pre>\n"
      ],
      "text/plain": [
       "\u001b[1m Non-trainable params: \u001b[0m\u001b[38;5;34m0\u001b[0m (0.00 B)\n"
      ]
     },
     "metadata": {},
     "output_type": "display_data"
    },
    {
     "data": {
      "text/html": [
       "<pre style=\"white-space:pre;overflow-x:auto;line-height:normal;font-family:Menlo,'DejaVu Sans Mono',consolas,'Courier New',monospace\"><span style=\"font-weight: bold\"> Optimizer params: </span><span style=\"color: #00af00; text-decoration-color: #00af00\">235,240</span> (918.91 KB)\n",
       "</pre>\n"
      ],
      "text/plain": [
       "\u001b[1m Optimizer params: \u001b[0m\u001b[38;5;34m235,240\u001b[0m (918.91 KB)\n"
      ]
     },
     "metadata": {},
     "output_type": "display_data"
    }
   ],
   "source": [
    "model.summary()"
   ]
  },
  {
   "cell_type": "code",
   "execution_count": 40,
   "id": "1f065848-3f40-4357-a0d1-726357e51f14",
   "metadata": {},
   "outputs": [],
   "source": [
    "# Save the trained model\n",
    "model.save('stock_prediction_model.keras')"
   ]
  },
  {
   "cell_type": "code",
   "execution_count": null,
   "id": "bc556a8b-1e24-4ca8-a869-7ae9592bb12c",
   "metadata": {},
   "outputs": [],
   "source": []
  },
  {
   "cell_type": "markdown",
   "id": "85d5a2c4-bf7b-4514-a5c7-4b0d42f498c4",
   "metadata": {},
   "source": [
    "# 8. Preparing test data"
   ]
  },
  {
   "cell_type": "code",
   "execution_count": 41,
   "id": "78ca0178-3f11-4537-87b8-a499ebf0eae7",
   "metadata": {},
   "outputs": [
    {
     "data": {
      "text/html": [
       "<div>\n",
       "<style scoped>\n",
       "    .dataframe tbody tr th:only-of-type {\n",
       "        vertical-align: middle;\n",
       "    }\n",
       "\n",
       "    .dataframe tbody tr th {\n",
       "        vertical-align: top;\n",
       "    }\n",
       "\n",
       "    .dataframe thead th {\n",
       "        text-align: right;\n",
       "    }\n",
       "</style>\n",
       "<table border=\"1\" class=\"dataframe\">\n",
       "  <thead>\n",
       "    <tr style=\"text-align: right;\">\n",
       "      <th>Ticker</th>\n",
       "      <th>AAPL</th>\n",
       "    </tr>\n",
       "  </thead>\n",
       "  <tbody>\n",
       "    <tr>\n",
       "      <th>1760</th>\n",
       "      <td>137.440002</td>\n",
       "    </tr>\n",
       "    <tr>\n",
       "      <th>1761</th>\n",
       "      <td>139.229996</td>\n",
       "    </tr>\n",
       "    <tr>\n",
       "      <th>1762</th>\n",
       "      <td>136.720001</td>\n",
       "    </tr>\n",
       "    <tr>\n",
       "      <th>1763</th>\n",
       "      <td>138.929993</td>\n",
       "    </tr>\n",
       "    <tr>\n",
       "      <th>1764</th>\n",
       "      <td>141.559998</td>\n",
       "    </tr>\n",
       "    <tr>\n",
       "      <th>...</th>\n",
       "      <td>...</td>\n",
       "    </tr>\n",
       "    <tr>\n",
       "      <th>2510</th>\n",
       "      <td>201.559998</td>\n",
       "    </tr>\n",
       "    <tr>\n",
       "      <th>2511</th>\n",
       "      <td>201.000000</td>\n",
       "    </tr>\n",
       "    <tr>\n",
       "      <th>2512</th>\n",
       "      <td>201.080002</td>\n",
       "    </tr>\n",
       "    <tr>\n",
       "      <th>2513</th>\n",
       "      <td>205.169998</td>\n",
       "    </tr>\n",
       "    <tr>\n",
       "      <th>2514</th>\n",
       "      <td>207.820007</td>\n",
       "    </tr>\n",
       "  </tbody>\n",
       "</table>\n",
       "<p>755 rows × 1 columns</p>\n",
       "</div>"
      ],
      "text/plain": [
       "Ticker        AAPL\n",
       "1760    137.440002\n",
       "1761    139.229996\n",
       "1762    136.720001\n",
       "1763    138.929993\n",
       "1764    141.559998\n",
       "...            ...\n",
       "2510    201.559998\n",
       "2511    201.000000\n",
       "2512    201.080002\n",
       "2513    205.169998\n",
       "2514    207.820007\n",
       "\n",
       "[755 rows x 1 columns]"
      ]
     },
     "execution_count": 41,
     "metadata": {},
     "output_type": "execute_result"
    }
   ],
   "source": [
    "data_testing"
   ]
  },
  {
   "cell_type": "code",
   "execution_count": 42,
   "id": "149b100b-8af4-4e79-8385-e3bef1d4e255",
   "metadata": {},
   "outputs": [
    {
     "data": {
      "text/html": [
       "<div>\n",
       "<style scoped>\n",
       "    .dataframe tbody tr th:only-of-type {\n",
       "        vertical-align: middle;\n",
       "    }\n",
       "\n",
       "    .dataframe tbody tr th {\n",
       "        vertical-align: top;\n",
       "    }\n",
       "\n",
       "    .dataframe thead th {\n",
       "        text-align: right;\n",
       "    }\n",
       "</style>\n",
       "<table border=\"1\" class=\"dataframe\">\n",
       "  <thead>\n",
       "    <tr style=\"text-align: right;\">\n",
       "      <th>Ticker</th>\n",
       "      <th>AAPL</th>\n",
       "    </tr>\n",
       "  </thead>\n",
       "  <tbody>\n",
       "    <tr>\n",
       "      <th>0</th>\n",
       "      <td>31.650000</td>\n",
       "    </tr>\n",
       "    <tr>\n",
       "      <th>1</th>\n",
       "      <td>31.610001</td>\n",
       "    </tr>\n",
       "    <tr>\n",
       "      <th>2</th>\n",
       "      <td>31.500000</td>\n",
       "    </tr>\n",
       "    <tr>\n",
       "      <th>3</th>\n",
       "      <td>31.422501</td>\n",
       "    </tr>\n",
       "    <tr>\n",
       "      <th>4</th>\n",
       "      <td>30.642500</td>\n",
       "    </tr>\n",
       "    <tr>\n",
       "      <th>...</th>\n",
       "      <td>...</td>\n",
       "    </tr>\n",
       "    <tr>\n",
       "      <th>1755</th>\n",
       "      <td>135.869995</td>\n",
       "    </tr>\n",
       "    <tr>\n",
       "      <th>1756</th>\n",
       "      <td>135.350006</td>\n",
       "    </tr>\n",
       "    <tr>\n",
       "      <th>1757</th>\n",
       "      <td>138.270004</td>\n",
       "    </tr>\n",
       "    <tr>\n",
       "      <th>1758</th>\n",
       "      <td>141.660004</td>\n",
       "    </tr>\n",
       "    <tr>\n",
       "      <th>1759</th>\n",
       "      <td>141.660004</td>\n",
       "    </tr>\n",
       "  </tbody>\n",
       "</table>\n",
       "<p>1760 rows × 1 columns</p>\n",
       "</div>"
      ],
      "text/plain": [
       "Ticker        AAPL\n",
       "0        31.650000\n",
       "1        31.610001\n",
       "2        31.500000\n",
       "3        31.422501\n",
       "4        30.642500\n",
       "...            ...\n",
       "1755    135.869995\n",
       "1756    135.350006\n",
       "1757    138.270004\n",
       "1758    141.660004\n",
       "1759    141.660004\n",
       "\n",
       "[1760 rows x 1 columns]"
      ]
     },
     "execution_count": 42,
     "metadata": {},
     "output_type": "execute_result"
    }
   ],
   "source": [
    "data_training"
   ]
  },
  {
   "cell_type": "code",
   "execution_count": 43,
   "id": "c7f870ce-6898-4217-b7e6-8ca07ba7429d",
   "metadata": {},
   "outputs": [],
   "source": [
    "past_100_days = data_training.tail(100)"
   ]
  },
  {
   "cell_type": "code",
   "execution_count": 44,
   "id": "c0d36c53-b01b-4587-a2bb-b6e0963bc446",
   "metadata": {},
   "outputs": [
    {
     "data": {
      "text/html": [
       "<div>\n",
       "<style scoped>\n",
       "    .dataframe tbody tr th:only-of-type {\n",
       "        vertical-align: middle;\n",
       "    }\n",
       "\n",
       "    .dataframe tbody tr th {\n",
       "        vertical-align: top;\n",
       "    }\n",
       "\n",
       "    .dataframe thead th {\n",
       "        text-align: right;\n",
       "    }\n",
       "</style>\n",
       "<table border=\"1\" class=\"dataframe\">\n",
       "  <thead>\n",
       "    <tr style=\"text-align: right;\">\n",
       "      <th>Ticker</th>\n",
       "      <th>AAPL</th>\n",
       "    </tr>\n",
       "  </thead>\n",
       "  <tbody>\n",
       "    <tr>\n",
       "      <th>1660</th>\n",
       "      <td>175.839996</td>\n",
       "    </tr>\n",
       "    <tr>\n",
       "      <th>1661</th>\n",
       "      <td>172.899994</td>\n",
       "    </tr>\n",
       "    <tr>\n",
       "      <th>1662</th>\n",
       "      <td>172.389999</td>\n",
       "    </tr>\n",
       "    <tr>\n",
       "      <th>1663</th>\n",
       "      <td>171.660004</td>\n",
       "    </tr>\n",
       "    <tr>\n",
       "      <th>1664</th>\n",
       "      <td>174.830002</td>\n",
       "    </tr>\n",
       "    <tr>\n",
       "      <th>...</th>\n",
       "      <td>...</td>\n",
       "    </tr>\n",
       "    <tr>\n",
       "      <th>1755</th>\n",
       "      <td>135.869995</td>\n",
       "    </tr>\n",
       "    <tr>\n",
       "      <th>1756</th>\n",
       "      <td>135.350006</td>\n",
       "    </tr>\n",
       "    <tr>\n",
       "      <th>1757</th>\n",
       "      <td>138.270004</td>\n",
       "    </tr>\n",
       "    <tr>\n",
       "      <th>1758</th>\n",
       "      <td>141.660004</td>\n",
       "    </tr>\n",
       "    <tr>\n",
       "      <th>1759</th>\n",
       "      <td>141.660004</td>\n",
       "    </tr>\n",
       "  </tbody>\n",
       "</table>\n",
       "<p>100 rows × 1 columns</p>\n",
       "</div>"
      ],
      "text/plain": [
       "Ticker        AAPL\n",
       "1660    175.839996\n",
       "1661    172.899994\n",
       "1662    172.389999\n",
       "1663    171.660004\n",
       "1664    174.830002\n",
       "...            ...\n",
       "1755    135.869995\n",
       "1756    135.350006\n",
       "1757    138.270004\n",
       "1758    141.660004\n",
       "1759    141.660004\n",
       "\n",
       "[100 rows x 1 columns]"
      ]
     },
     "execution_count": 44,
     "metadata": {},
     "output_type": "execute_result"
    }
   ],
   "source": [
    "past_100_days"
   ]
  },
  {
   "cell_type": "code",
   "execution_count": 45,
   "id": "0d9979fa-139f-4d7e-8e09-792e25e3b68c",
   "metadata": {},
   "outputs": [
    {
     "data": {
      "text/html": [
       "<div>\n",
       "<style scoped>\n",
       "    .dataframe tbody tr th:only-of-type {\n",
       "        vertical-align: middle;\n",
       "    }\n",
       "\n",
       "    .dataframe tbody tr th {\n",
       "        vertical-align: top;\n",
       "    }\n",
       "\n",
       "    .dataframe thead th {\n",
       "        text-align: right;\n",
       "    }\n",
       "</style>\n",
       "<table border=\"1\" class=\"dataframe\">\n",
       "  <thead>\n",
       "    <tr style=\"text-align: right;\">\n",
       "      <th>Ticker</th>\n",
       "      <th>AAPL</th>\n",
       "    </tr>\n",
       "  </thead>\n",
       "  <tbody>\n",
       "    <tr>\n",
       "      <th>0</th>\n",
       "      <td>175.839996</td>\n",
       "    </tr>\n",
       "    <tr>\n",
       "      <th>1</th>\n",
       "      <td>172.899994</td>\n",
       "    </tr>\n",
       "    <tr>\n",
       "      <th>2</th>\n",
       "      <td>172.389999</td>\n",
       "    </tr>\n",
       "    <tr>\n",
       "      <th>3</th>\n",
       "      <td>171.660004</td>\n",
       "    </tr>\n",
       "    <tr>\n",
       "      <th>4</th>\n",
       "      <td>174.830002</td>\n",
       "    </tr>\n",
       "    <tr>\n",
       "      <th>...</th>\n",
       "      <td>...</td>\n",
       "    </tr>\n",
       "    <tr>\n",
       "      <th>850</th>\n",
       "      <td>201.559998</td>\n",
       "    </tr>\n",
       "    <tr>\n",
       "      <th>851</th>\n",
       "      <td>201.000000</td>\n",
       "    </tr>\n",
       "    <tr>\n",
       "      <th>852</th>\n",
       "      <td>201.080002</td>\n",
       "    </tr>\n",
       "    <tr>\n",
       "      <th>853</th>\n",
       "      <td>205.169998</td>\n",
       "    </tr>\n",
       "    <tr>\n",
       "      <th>854</th>\n",
       "      <td>207.820007</td>\n",
       "    </tr>\n",
       "  </tbody>\n",
       "</table>\n",
       "<p>855 rows × 1 columns</p>\n",
       "</div>"
      ],
      "text/plain": [
       "Ticker        AAPL\n",
       "0       175.839996\n",
       "1       172.899994\n",
       "2       172.389999\n",
       "3       171.660004\n",
       "4       174.830002\n",
       "..             ...\n",
       "850     201.559998\n",
       "851     201.000000\n",
       "852     201.080002\n",
       "853     205.169998\n",
       "854     207.820007\n",
       "\n",
       "[855 rows x 1 columns]"
      ]
     },
     "execution_count": 45,
     "metadata": {},
     "output_type": "execute_result"
    }
   ],
   "source": [
    "final_df = pd.concat([past_100_days, data_testing], ignore_index=True)\n",
    "final_df"
   ]
  },
  {
   "cell_type": "code",
   "execution_count": 46,
   "id": "c198175c-a835-4a8a-8895-12bdb057a214",
   "metadata": {},
   "outputs": [],
   "source": [
    "input_data = scaler.fit_transform(final_df)"
   ]
  },
  {
   "cell_type": "code",
   "execution_count": 47,
   "id": "3b3c4a28-6616-4abd-9f37-888b72bf86f4",
   "metadata": {},
   "outputs": [
    {
     "data": {
      "text/plain": [
       "(855, 1)"
      ]
     },
     "execution_count": 47,
     "metadata": {},
     "output_type": "execute_result"
    }
   ],
   "source": [
    "input_data.shape"
   ]
  },
  {
   "cell_type": "code",
   "execution_count": 48,
   "id": "9eb6fb7a-ea90-4835-a3f9-567f3aac28e0",
   "metadata": {},
   "outputs": [],
   "source": [
    "x_test = []\n",
    "y_test = []\n",
    "\n",
    "for i in range(100, input_data.shape[0]):\n",
    "    x_test.append(input_data[i-100:i])\n",
    "    y_test.append(input_data[i])"
   ]
  },
  {
   "cell_type": "code",
   "execution_count": 49,
   "id": "e756b6cd-f06c-4e51-ae20-e46206f1574a",
   "metadata": {},
   "outputs": [],
   "source": [
    "x_test, y_test = np.array(x_test), np.array(y_test)"
   ]
  },
  {
   "cell_type": "code",
   "execution_count": 50,
   "id": "c73a27c9-2498-427e-857d-055aa16b0f20",
   "metadata": {},
   "outputs": [
    {
     "data": {
      "text/plain": [
       "(100, 1)"
      ]
     },
     "execution_count": 50,
     "metadata": {},
     "output_type": "execute_result"
    }
   ],
   "source": [
    "x_test[0].shape"
   ]
  },
  {
   "cell_type": "code",
   "execution_count": 51,
   "id": "63d20cce-58f9-441f-921c-6a87a74da847",
   "metadata": {},
   "outputs": [
    {
     "data": {
      "text/plain": [
       "(1,)"
      ]
     },
     "execution_count": 51,
     "metadata": {},
     "output_type": "execute_result"
    }
   ],
   "source": [
    "y_test[0].shape"
   ]
  },
  {
   "cell_type": "code",
   "execution_count": null,
   "id": "ed567605-1ea3-4a3d-bfb5-8012e5accde5",
   "metadata": {},
   "outputs": [],
   "source": []
  },
  {
   "cell_type": "markdown",
   "id": "4ec8f87c-85bc-45ff-b77d-f62fdb008b09",
   "metadata": {},
   "source": [
    "# 9. Making predictions"
   ]
  },
  {
   "cell_type": "code",
   "execution_count": 52,
   "id": "cbab52c5-7a8e-478d-9173-c18c932fd200",
   "metadata": {},
   "outputs": [
    {
     "name": "stdout",
     "output_type": "stream",
     "text": [
      "\u001b[1m24/24\u001b[0m \u001b[32m━━━━━━━━━━━━━━━━━━━━\u001b[0m\u001b[37m\u001b[0m \u001b[1m1s\u001b[0m 24ms/step\n"
     ]
    }
   ],
   "source": [
    "y_predicted = model.predict(x_test)"
   ]
  },
  {
   "cell_type": "code",
   "execution_count": 66,
   "id": "70d56621-de20-447c-a08f-80ed91d0593d",
   "metadata": {},
   "outputs": [
    {
     "data": {
      "text/plain": [
       "(755,)"
      ]
     },
     "execution_count": 66,
     "metadata": {},
     "output_type": "execute_result"
    }
   ],
   "source": [
    "y_predicted.shape"
   ]
  },
  {
   "cell_type": "code",
   "execution_count": 54,
   "id": "df894d63-c6ca-47a7-87a7-539ba887c6ca",
   "metadata": {},
   "outputs": [],
   "source": [
    "y_predicted = scaler.inverse_transform(y_predicted.reshape(-1,1)).flatten()\n",
    "y_test = scaler.inverse_transform(y_test.reshape(-1,1)).flatten()"
   ]
  },
  {
   "cell_type": "code",
   "execution_count": 64,
   "id": "6834f31b-616e-4f5e-a6a5-346aa2f07aeb",
   "metadata": {},
   "outputs": [
    {
     "data": {
      "text/plain": [
       "(755,)"
      ]
     },
     "execution_count": 64,
     "metadata": {},
     "output_type": "execute_result"
    }
   ],
   "source": [
    "y_predicted.shape"
   ]
  },
  {
   "cell_type": "code",
   "execution_count": 65,
   "id": "f844658b-7e71-4ef0-8f44-3405f5efcf24",
   "metadata": {},
   "outputs": [
    {
     "data": {
      "text/plain": [
       "(755,)"
      ]
     },
     "execution_count": 65,
     "metadata": {},
     "output_type": "execute_result"
    }
   ],
   "source": [
    "y_test.shape"
   ]
  },
  {
   "cell_type": "code",
   "execution_count": 57,
   "id": "0b4aa908-1fe1-43fd-8b46-d43d77e42b08",
   "metadata": {},
   "outputs": [
    {
     "data": {
      "text/plain": [
       "<matplotlib.legend.Legend at 0x3050be530>"
      ]
     },
     "execution_count": 57,
     "metadata": {},
     "output_type": "execute_result"
    },
    {
     "data": {
      "image/png": "[encoded data removed]",
      "text/plain": [
       "<Figure size 1200x600 with 1 Axes>"
      ]
     },
     "metadata": {},
     "output_type": "display_data"
    }
   ],
   "source": [
    "plt.figure(figsize=(12,6))\n",
    "plt.plot(y_test, 'b', label='Original price')\n",
    "plt.plot(y_predicted, 'r', label='Predicted price')\n",
    "plt.xlabel('Days')\n",
    "plt.ylabel('Price')\n",
    "plt.legend()"
   ]
  },
  {
   "cell_type": "code",
   "execution_count": 58,
   "id": "e75e984a-98f9-4e68-99b7-6bd2740ab0a6",
   "metadata": {},
   "outputs": [
    {
     "data": {
      "text/plain": [
       "(170.0, 250.0)"
      ]
     },
     "execution_count": 58,
     "metadata": {},
     "output_type": "execute_result"
    },
    {
     "data": {
      "image/png": "[encoded data removed]",
      "text/plain": [
       "<Figure size 1200x600 with 1 Axes>"
      ]
     },
     "metadata": {},
     "output_type": "display_data"
    }
   ],
   "source": [
    "plt.figure(figsize=(12,6))\n",
    "plt.plot(y_test, 'b', label='Original price')\n",
    "plt.plot(y_predicted, 'r', label='Predicted price')\n",
    "plt.xlabel('Days')\n",
    "plt.ylabel('Price')\n",
    "plt.legend()\n",
    "plt.xlim(450,750)\n",
    "plt.ylim(170, 250)"
   ]
  },
  {
   "cell_type": "markdown",
   "id": "85fdaeec-1cef-4110-b2af-c051ac6e4c96",
   "metadata": {},
   "source": [
    "# 10. Model Evaluation"
   ]
  },
  {
   "cell_type": "code",
   "execution_count": 59,
   "id": "70af0879-6c48-44e8-b600-ffa2eb89b62e",
   "metadata": {},
   "outputs": [],
   "source": [
    "# Mean squared error (MSE)\n",
    "from sklearn.metrics import mean_squared_error, r2_score"
   ]
  },
  {
   "cell_type": "code",
   "execution_count": 60,
   "id": "bcb8d3ab-d52f-4849-ad0f-3b75571ebbb9",
   "metadata": {},
   "outputs": [
    {
     "name": "stdout",
     "output_type": "stream",
     "text": [
      "Mean squared error (MSE): 13.771569410072322\n"
     ]
    }
   ],
   "source": [
    "mse = mean_squared_error(y_test, y_predicted)\n",
    "print(f\"Mean squared error (MSE): {mse}\")"
   ]
  },
  {
   "cell_type": "code",
   "execution_count": 61,
   "id": "3cc885a0-87a8-4d6e-b556-839f325efd47",
   "metadata": {},
   "outputs": [],
   "source": [
    "# Root mean squared error (RMSE)"
   ]
  },
  {
   "cell_type": "code",
   "execution_count": 62,
   "id": "cbd33994-7ada-4f54-975c-e18df75cf42c",
   "metadata": {},
   "outputs": [
    {
     "name": "stdout",
     "output_type": "stream",
     "text": [
      "Root mean squared error (MSE): 3.711006522504686\n"
     ]
    }
   ],
   "source": [
    "rmse = np.sqrt(mse)\n",
    "print(f\"Root mean squared error (MSE): {rmse}\")"
   ]
  },
  {
   "cell_type": "code",
   "execution_count": 63,
   "id": "01aada1e-e968-49a9-b5a4-3014d6655e95",
   "metadata": {},
   "outputs": [
    {
     "name": "stdout",
     "output_type": "stream",
     "text": [
      "R-squared: 0.9858196000913473\n"
     ]
    }
   ],
   "source": [
    "# R - squared\n",
    "r2 = r2_score(y_test, y_predicted)\n",
    "print(f\"R-squared: {r2}\")"
   ]
  },
  {
   "cell_type": "code",
   "execution_count": null,
   "id": "4996f3f9-57af-4f7d-80ab-318aa58aa09c",
   "metadata": {},
   "outputs": [],
   "source": []
  }
 ],
 "metadata": {
  "kernelspec": {
   "display_name": "Python (tf-env)",
   "language": "python",
   "name": "tf-env"
  },
  "language_info": {
   "codemirror_mode": {
    "name": "ipython",
    "version": 3
   },
   "file_extension": ".py",
   "mimetype": "text/x-python",
   "name": "python",
   "nbconvert_exporter": "python",
   "pygments_lexer": "ipython3",
   "version": "3.10.18"
  }
 },
 "nbformat": 4,
 "nbformat_minor": 5
}
